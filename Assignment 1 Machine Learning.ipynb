{
 "cells": [
  {
   "cell_type": "markdown",
   "metadata": {},
   "source": [
    "# Assignment 1"
   ]
  },
  {
   "cell_type": "markdown",
   "metadata": {},
   "source": [
    "### Regression with NumPy\n",
    "You are tasked to develop a regression model that best fits the data below. You will turn in a Jupyter notebook in PDF format that describes your method, and provides and demonstrates your code.\n",
    "\n",
    "All data sets are curated from the UCI Machine Learning repository.\n",
    "\n",
    "- Airfoil Self-Noise: https://archive.ics.uci.edu/ml/datasets/Airfoil+Self-Noise \n",
    "- Yacht Hydrodynamics: https://archive.ics.uci.edu/ml/datasets/Yacht+Hydrodynamics\n",
    "- Concrete Slump: https://archive.ics.uci.edu/ml/datasets/Concrete+Slump+Test"
   ]
  },
  {
   "cell_type": "markdown",
   "metadata": {},
   "source": [
    "### Importing Packages"
   ]
  },
  {
   "cell_type": "code",
   "execution_count": 1,
   "metadata": {},
   "outputs": [
    {
     "name": "stderr",
     "output_type": "stream",
     "text": [
      "D:\\Anaconda\\lib\\site-packages\\sklearn\\cross_validation.py:41: DeprecationWarning: This module was deprecated in version 0.18 in favor of the model_selection module into which all the refactored classes and functions are moved. Also note that the interface of the new CV iterators are different from that of this module. This module will be removed in 0.20.\n",
      "  \"This module will be removed in 0.20.\", DeprecationWarning)\n"
     ]
    },
    {
     "data": {
      "text/html": [
       "\n",
       "    <div class=\"bk-root\">\n",
       "        <a href=\"https://bokeh.pydata.org\" target=\"_blank\" class=\"bk-logo bk-logo-small bk-logo-notebook\"></a>\n",
       "        <span id=\"86fadb8a-a393-4de8-80d8-c5bfeebb6c0b\">Loading BokehJS ...</span>\n",
       "    </div>"
      ]
     },
     "metadata": {},
     "output_type": "display_data"
    },
    {
     "data": {
      "application/javascript": [
       "\n",
       "(function(root) {\n",
       "  function now() {\n",
       "    return new Date();\n",
       "  }\n",
       "\n",
       "  var force = true;\n",
       "\n",
       "  if (typeof (root._bokeh_onload_callbacks) === \"undefined\" || force === true) {\n",
       "    root._bokeh_onload_callbacks = [];\n",
       "    root._bokeh_is_loading = undefined;\n",
       "  }\n",
       "\n",
       "  var JS_MIME_TYPE = 'application/javascript';\n",
       "  var HTML_MIME_TYPE = 'text/html';\n",
       "  var EXEC_MIME_TYPE = 'application/vnd.bokehjs_exec.v0+json';\n",
       "  var CLASS_NAME = 'output_bokeh rendered_html';\n",
       "\n",
       "  /**\n",
       "   * Render data to the DOM node\n",
       "   */\n",
       "  function render(props, node) {\n",
       "    var script = document.createElement(\"script\");\n",
       "    node.appendChild(script);\n",
       "  }\n",
       "\n",
       "  /**\n",
       "   * Handle when an output is cleared or removed\n",
       "   */\n",
       "  function handleClearOutput(event, handle) {\n",
       "    var cell = handle.cell;\n",
       "\n",
       "    var id = cell.output_area._bokeh_element_id;\n",
       "    var server_id = cell.output_area._bokeh_server_id;\n",
       "    // Clean up Bokeh references\n",
       "    if (id !== undefined) {\n",
       "      Bokeh.index[id].model.document.clear();\n",
       "      delete Bokeh.index[id];\n",
       "    }\n",
       "\n",
       "    if (server_id !== undefined) {\n",
       "      // Clean up Bokeh references\n",
       "      var cmd = \"from bokeh.io.state import curstate; print(curstate().uuid_to_server['\" + server_id + \"'].get_sessions()[0].document.roots[0]._id)\";\n",
       "      cell.notebook.kernel.execute(cmd, {\n",
       "        iopub: {\n",
       "          output: function(msg) {\n",
       "            var element_id = msg.content.text.trim();\n",
       "            Bokeh.index[element_id].model.document.clear();\n",
       "            delete Bokeh.index[element_id];\n",
       "          }\n",
       "        }\n",
       "      });\n",
       "      // Destroy server and session\n",
       "      var cmd = \"import bokeh.io.notebook as ion; ion.destroy_server('\" + server_id + \"')\";\n",
       "      cell.notebook.kernel.execute(cmd);\n",
       "    }\n",
       "  }\n",
       "\n",
       "  /**\n",
       "   * Handle when a new output is added\n",
       "   */\n",
       "  function handleAddOutput(event, handle) {\n",
       "    var output_area = handle.output_area;\n",
       "    var output = handle.output;\n",
       "\n",
       "    // limit handleAddOutput to display_data with EXEC_MIME_TYPE content only\n",
       "    if ((output.output_type != \"display_data\") || (!output.data.hasOwnProperty(EXEC_MIME_TYPE))) {\n",
       "      return\n",
       "    }\n",
       "\n",
       "    var toinsert = output_area.element.find(\".\" + CLASS_NAME.split(' ')[0]);\n",
       "\n",
       "    if (output.metadata[EXEC_MIME_TYPE][\"id\"] !== undefined) {\n",
       "      toinsert[toinsert.length - 1].firstChild.textContent = output.data[JS_MIME_TYPE];\n",
       "      // store reference to embed id on output_area\n",
       "      output_area._bokeh_element_id = output.metadata[EXEC_MIME_TYPE][\"id\"];\n",
       "    }\n",
       "    if (output.metadata[EXEC_MIME_TYPE][\"server_id\"] !== undefined) {\n",
       "      var bk_div = document.createElement(\"div\");\n",
       "      bk_div.innerHTML = output.data[HTML_MIME_TYPE];\n",
       "      var script_attrs = bk_div.children[0].attributes;\n",
       "      for (var i = 0; i < script_attrs.length; i++) {\n",
       "        toinsert[toinsert.length - 1].firstChild.setAttribute(script_attrs[i].name, script_attrs[i].value);\n",
       "      }\n",
       "      // store reference to server id on output_area\n",
       "      output_area._bokeh_server_id = output.metadata[EXEC_MIME_TYPE][\"server_id\"];\n",
       "    }\n",
       "  }\n",
       "\n",
       "  function register_renderer(events, OutputArea) {\n",
       "\n",
       "    function append_mime(data, metadata, element) {\n",
       "      // create a DOM node to render to\n",
       "      var toinsert = this.create_output_subarea(\n",
       "        metadata,\n",
       "        CLASS_NAME,\n",
       "        EXEC_MIME_TYPE\n",
       "      );\n",
       "      this.keyboard_manager.register_events(toinsert);\n",
       "      // Render to node\n",
       "      var props = {data: data, metadata: metadata[EXEC_MIME_TYPE]};\n",
       "      render(props, toinsert[toinsert.length - 1]);\n",
       "      element.append(toinsert);\n",
       "      return toinsert\n",
       "    }\n",
       "\n",
       "    /* Handle when an output is cleared or removed */\n",
       "    events.on('clear_output.CodeCell', handleClearOutput);\n",
       "    events.on('delete.Cell', handleClearOutput);\n",
       "\n",
       "    /* Handle when a new output is added */\n",
       "    events.on('output_added.OutputArea', handleAddOutput);\n",
       "\n",
       "    /**\n",
       "     * Register the mime type and append_mime function with output_area\n",
       "     */\n",
       "    OutputArea.prototype.register_mime_type(EXEC_MIME_TYPE, append_mime, {\n",
       "      /* Is output safe? */\n",
       "      safe: true,\n",
       "      /* Index of renderer in `output_area.display_order` */\n",
       "      index: 0\n",
       "    });\n",
       "  }\n",
       "\n",
       "  // register the mime type if in Jupyter Notebook environment and previously unregistered\n",
       "  if (root.Jupyter !== undefined) {\n",
       "    var events = require('base/js/events');\n",
       "    var OutputArea = require('notebook/js/outputarea').OutputArea;\n",
       "\n",
       "    if (OutputArea.prototype.mime_types().indexOf(EXEC_MIME_TYPE) == -1) {\n",
       "      register_renderer(events, OutputArea);\n",
       "    }\n",
       "  }\n",
       "\n",
       "  \n",
       "  if (typeof (root._bokeh_timeout) === \"undefined\" || force === true) {\n",
       "    root._bokeh_timeout = Date.now() + 5000;\n",
       "    root._bokeh_failed_load = false;\n",
       "  }\n",
       "\n",
       "  var NB_LOAD_WARNING = {'data': {'text/html':\n",
       "     \"<div style='background-color: #fdd'>\\n\"+\n",
       "     \"<p>\\n\"+\n",
       "     \"BokehJS does not appear to have successfully loaded. If loading BokehJS from CDN, this \\n\"+\n",
       "     \"may be due to a slow or bad network connection. Possible fixes:\\n\"+\n",
       "     \"</p>\\n\"+\n",
       "     \"<ul>\\n\"+\n",
       "     \"<li>re-rerun `output_notebook()` to attempt to load from CDN again, or</li>\\n\"+\n",
       "     \"<li>use INLINE resources instead, as so:</li>\\n\"+\n",
       "     \"</ul>\\n\"+\n",
       "     \"<code>\\n\"+\n",
       "     \"from bokeh.resources import INLINE\\n\"+\n",
       "     \"output_notebook(resources=INLINE)\\n\"+\n",
       "     \"</code>\\n\"+\n",
       "     \"</div>\"}};\n",
       "\n",
       "  function display_loaded() {\n",
       "    var el = document.getElementById(\"86fadb8a-a393-4de8-80d8-c5bfeebb6c0b\");\n",
       "    if (el != null) {\n",
       "      el.textContent = \"BokehJS is loading...\";\n",
       "    }\n",
       "    if (root.Bokeh !== undefined) {\n",
       "      if (el != null) {\n",
       "        el.textContent = \"BokehJS \" + root.Bokeh.version + \" successfully loaded.\";\n",
       "      }\n",
       "    } else if (Date.now() < root._bokeh_timeout) {\n",
       "      setTimeout(display_loaded, 100)\n",
       "    }\n",
       "  }\n",
       "\n",
       "\n",
       "  function run_callbacks() {\n",
       "    try {\n",
       "      root._bokeh_onload_callbacks.forEach(function(callback) { callback() });\n",
       "    }\n",
       "    finally {\n",
       "      delete root._bokeh_onload_callbacks\n",
       "    }\n",
       "    console.info(\"Bokeh: all callbacks have finished\");\n",
       "  }\n",
       "\n",
       "  function load_libs(js_urls, callback) {\n",
       "    root._bokeh_onload_callbacks.push(callback);\n",
       "    if (root._bokeh_is_loading > 0) {\n",
       "      console.log(\"Bokeh: BokehJS is being loaded, scheduling callback at\", now());\n",
       "      return null;\n",
       "    }\n",
       "    if (js_urls == null || js_urls.length === 0) {\n",
       "      run_callbacks();\n",
       "      return null;\n",
       "    }\n",
       "    console.log(\"Bokeh: BokehJS not loaded, scheduling load and callback at\", now());\n",
       "    root._bokeh_is_loading = js_urls.length;\n",
       "    for (var i = 0; i < js_urls.length; i++) {\n",
       "      var url = js_urls[i];\n",
       "      var s = document.createElement('script');\n",
       "      s.src = url;\n",
       "      s.async = false;\n",
       "      s.onreadystatechange = s.onload = function() {\n",
       "        root._bokeh_is_loading--;\n",
       "        if (root._bokeh_is_loading === 0) {\n",
       "          console.log(\"Bokeh: all BokehJS libraries loaded\");\n",
       "          run_callbacks()\n",
       "        }\n",
       "      };\n",
       "      s.onerror = function() {\n",
       "        console.warn(\"failed to load library \" + url);\n",
       "      };\n",
       "      console.log(\"Bokeh: injecting script tag for BokehJS library: \", url);\n",
       "      document.getElementsByTagName(\"head\")[0].appendChild(s);\n",
       "    }\n",
       "  };var element = document.getElementById(\"86fadb8a-a393-4de8-80d8-c5bfeebb6c0b\");\n",
       "  if (element == null) {\n",
       "    console.log(\"Bokeh: ERROR: autoload.js configured with elementid '86fadb8a-a393-4de8-80d8-c5bfeebb6c0b' but no matching script tag was found. \")\n",
       "    return false;\n",
       "  }\n",
       "\n",
       "  var js_urls = [\"https://cdn.pydata.org/bokeh/release/bokeh-0.12.16.min.js\", \"https://cdn.pydata.org/bokeh/release/bokeh-widgets-0.12.16.min.js\", \"https://cdn.pydata.org/bokeh/release/bokeh-tables-0.12.16.min.js\", \"https://cdn.pydata.org/bokeh/release/bokeh-gl-0.12.16.min.js\"];\n",
       "\n",
       "  var inline_js = [\n",
       "    function(Bokeh) {\n",
       "      Bokeh.set_log_level(\"info\");\n",
       "    },\n",
       "    \n",
       "    function(Bokeh) {\n",
       "      \n",
       "    },\n",
       "    function(Bokeh) {\n",
       "      console.log(\"Bokeh: injecting CSS: https://cdn.pydata.org/bokeh/release/bokeh-0.12.16.min.css\");\n",
       "      Bokeh.embed.inject_css(\"https://cdn.pydata.org/bokeh/release/bokeh-0.12.16.min.css\");\n",
       "      console.log(\"Bokeh: injecting CSS: https://cdn.pydata.org/bokeh/release/bokeh-widgets-0.12.16.min.css\");\n",
       "      Bokeh.embed.inject_css(\"https://cdn.pydata.org/bokeh/release/bokeh-widgets-0.12.16.min.css\");\n",
       "      console.log(\"Bokeh: injecting CSS: https://cdn.pydata.org/bokeh/release/bokeh-tables-0.12.16.min.css\");\n",
       "      Bokeh.embed.inject_css(\"https://cdn.pydata.org/bokeh/release/bokeh-tables-0.12.16.min.css\");\n",
       "    }\n",
       "  ];\n",
       "\n",
       "  function run_inline_js() {\n",
       "    \n",
       "    if ((root.Bokeh !== undefined) || (force === true)) {\n",
       "      for (var i = 0; i < inline_js.length; i++) {\n",
       "        inline_js[i].call(root, root.Bokeh);\n",
       "      }if (force === true) {\n",
       "        display_loaded();\n",
       "      }} else if (Date.now() < root._bokeh_timeout) {\n",
       "      setTimeout(run_inline_js, 100);\n",
       "    } else if (!root._bokeh_failed_load) {\n",
       "      console.log(\"Bokeh: BokehJS failed to load within specified timeout.\");\n",
       "      root._bokeh_failed_load = true;\n",
       "    } else if (force !== true) {\n",
       "      var cell = $(document.getElementById(\"86fadb8a-a393-4de8-80d8-c5bfeebb6c0b\")).parents('.cell').data().cell;\n",
       "      cell.output_area.append_execute_result(NB_LOAD_WARNING)\n",
       "    }\n",
       "\n",
       "  }\n",
       "\n",
       "  if (root._bokeh_is_loading === 0) {\n",
       "    console.log(\"Bokeh: BokehJS loaded, going straight to plotting\");\n",
       "    run_inline_js();\n",
       "  } else {\n",
       "    load_libs(js_urls, function() {\n",
       "      console.log(\"Bokeh: BokehJS plotting callback run at\", now());\n",
       "      run_inline_js();\n",
       "    });\n",
       "  }\n",
       "}(window));"
      ],
      "application/vnd.bokehjs_load.v0+json": "\n(function(root) {\n  function now() {\n    return new Date();\n  }\n\n  var force = true;\n\n  if (typeof (root._bokeh_onload_callbacks) === \"undefined\" || force === true) {\n    root._bokeh_onload_callbacks = [];\n    root._bokeh_is_loading = undefined;\n  }\n\n  \n\n  \n  if (typeof (root._bokeh_timeout) === \"undefined\" || force === true) {\n    root._bokeh_timeout = Date.now() + 5000;\n    root._bokeh_failed_load = false;\n  }\n\n  var NB_LOAD_WARNING = {'data': {'text/html':\n     \"<div style='background-color: #fdd'>\\n\"+\n     \"<p>\\n\"+\n     \"BokehJS does not appear to have successfully loaded. If loading BokehJS from CDN, this \\n\"+\n     \"may be due to a slow or bad network connection. Possible fixes:\\n\"+\n     \"</p>\\n\"+\n     \"<ul>\\n\"+\n     \"<li>re-rerun `output_notebook()` to attempt to load from CDN again, or</li>\\n\"+\n     \"<li>use INLINE resources instead, as so:</li>\\n\"+\n     \"</ul>\\n\"+\n     \"<code>\\n\"+\n     \"from bokeh.resources import INLINE\\n\"+\n     \"output_notebook(resources=INLINE)\\n\"+\n     \"</code>\\n\"+\n     \"</div>\"}};\n\n  function display_loaded() {\n    var el = document.getElementById(\"86fadb8a-a393-4de8-80d8-c5bfeebb6c0b\");\n    if (el != null) {\n      el.textContent = \"BokehJS is loading...\";\n    }\n    if (root.Bokeh !== undefined) {\n      if (el != null) {\n        el.textContent = \"BokehJS \" + root.Bokeh.version + \" successfully loaded.\";\n      }\n    } else if (Date.now() < root._bokeh_timeout) {\n      setTimeout(display_loaded, 100)\n    }\n  }\n\n\n  function run_callbacks() {\n    try {\n      root._bokeh_onload_callbacks.forEach(function(callback) { callback() });\n    }\n    finally {\n      delete root._bokeh_onload_callbacks\n    }\n    console.info(\"Bokeh: all callbacks have finished\");\n  }\n\n  function load_libs(js_urls, callback) {\n    root._bokeh_onload_callbacks.push(callback);\n    if (root._bokeh_is_loading > 0) {\n      console.log(\"Bokeh: BokehJS is being loaded, scheduling callback at\", now());\n      return null;\n    }\n    if (js_urls == null || js_urls.length === 0) {\n      run_callbacks();\n      return null;\n    }\n    console.log(\"Bokeh: BokehJS not loaded, scheduling load and callback at\", now());\n    root._bokeh_is_loading = js_urls.length;\n    for (var i = 0; i < js_urls.length; i++) {\n      var url = js_urls[i];\n      var s = document.createElement('script');\n      s.src = url;\n      s.async = false;\n      s.onreadystatechange = s.onload = function() {\n        root._bokeh_is_loading--;\n        if (root._bokeh_is_loading === 0) {\n          console.log(\"Bokeh: all BokehJS libraries loaded\");\n          run_callbacks()\n        }\n      };\n      s.onerror = function() {\n        console.warn(\"failed to load library \" + url);\n      };\n      console.log(\"Bokeh: injecting script tag for BokehJS library: \", url);\n      document.getElementsByTagName(\"head\")[0].appendChild(s);\n    }\n  };var element = document.getElementById(\"86fadb8a-a393-4de8-80d8-c5bfeebb6c0b\");\n  if (element == null) {\n    console.log(\"Bokeh: ERROR: autoload.js configured with elementid '86fadb8a-a393-4de8-80d8-c5bfeebb6c0b' but no matching script tag was found. \")\n    return false;\n  }\n\n  var js_urls = [\"https://cdn.pydata.org/bokeh/release/bokeh-0.12.16.min.js\", \"https://cdn.pydata.org/bokeh/release/bokeh-widgets-0.12.16.min.js\", \"https://cdn.pydata.org/bokeh/release/bokeh-tables-0.12.16.min.js\", \"https://cdn.pydata.org/bokeh/release/bokeh-gl-0.12.16.min.js\"];\n\n  var inline_js = [\n    function(Bokeh) {\n      Bokeh.set_log_level(\"info\");\n    },\n    \n    function(Bokeh) {\n      \n    },\n    function(Bokeh) {\n      console.log(\"Bokeh: injecting CSS: https://cdn.pydata.org/bokeh/release/bokeh-0.12.16.min.css\");\n      Bokeh.embed.inject_css(\"https://cdn.pydata.org/bokeh/release/bokeh-0.12.16.min.css\");\n      console.log(\"Bokeh: injecting CSS: https://cdn.pydata.org/bokeh/release/bokeh-widgets-0.12.16.min.css\");\n      Bokeh.embed.inject_css(\"https://cdn.pydata.org/bokeh/release/bokeh-widgets-0.12.16.min.css\");\n      console.log(\"Bokeh: injecting CSS: https://cdn.pydata.org/bokeh/release/bokeh-tables-0.12.16.min.css\");\n      Bokeh.embed.inject_css(\"https://cdn.pydata.org/bokeh/release/bokeh-tables-0.12.16.min.css\");\n    }\n  ];\n\n  function run_inline_js() {\n    \n    if ((root.Bokeh !== undefined) || (force === true)) {\n      for (var i = 0; i < inline_js.length; i++) {\n        inline_js[i].call(root, root.Bokeh);\n      }if (force === true) {\n        display_loaded();\n      }} else if (Date.now() < root._bokeh_timeout) {\n      setTimeout(run_inline_js, 100);\n    } else if (!root._bokeh_failed_load) {\n      console.log(\"Bokeh: BokehJS failed to load within specified timeout.\");\n      root._bokeh_failed_load = true;\n    } else if (force !== true) {\n      var cell = $(document.getElementById(\"86fadb8a-a393-4de8-80d8-c5bfeebb6c0b\")).parents('.cell').data().cell;\n      cell.output_area.append_execute_result(NB_LOAD_WARNING)\n    }\n\n  }\n\n  if (root._bokeh_is_loading === 0) {\n    console.log(\"Bokeh: BokehJS loaded, going straight to plotting\");\n    run_inline_js();\n  } else {\n    load_libs(js_urls, function() {\n      console.log(\"Bokeh: BokehJS plotting callback run at\", now());\n      run_inline_js();\n    });\n  }\n}(window));"
     },
     "metadata": {},
     "output_type": "display_data"
    }
   ],
   "source": [
    "# Import Pandas\n",
    "import pandas as pd\n",
    "\n",
    "# Import Numpy\n",
    "import numpy as np\n",
    "\n",
    "# Import Random\n",
    "import random\n",
    "\n",
    "# Scipy Stats\n",
    "from scipy import stats\n",
    "\n",
    "# K FOld\n",
    "from sklearn.cross_validation import KFold\n",
    "\n",
    "# Import matplotlib pyplot\n",
    "from matplotlib import pyplot as plt\n",
    "\n",
    "# Import Bokeh\n",
    "import bokeh\n",
    "from bokeh.plotting import figure, output_file, show\n",
    "from bokeh.palettes import d3\n",
    "from bokeh.io import output_notebook\n",
    "from bokeh.models import Legend\n",
    "output_notebook()\n",
    "\n",
    "# Import warnings\n",
    "import warnings \n",
    "warnings.filterwarnings('ignore')"
   ]
  },
  {
   "cell_type": "markdown",
   "metadata": {},
   "source": [
    "#### Reading the data from the web¶\n",
    "Let us first read the data from the web and store those into pandas dataframe for further processing."
   ]
  },
  {
   "cell_type": "code",
   "execution_count": 2,
   "metadata": {},
   "outputs": [],
   "source": [
    "# Airfoil Self-Noise data\n",
    "airfoil_df = pd.read_table(\n",
    "    filepath_or_buffer = \"https://archive.ics.uci.edu/ml/machine-learning-databases/00291/airfoil_self_noise.dat\",\n",
    "    names = [\"Frequency\", \"Angle of attack\", \"Chord length\", \"Free-stream velocity\", \n",
    "             \"Suction side displacement\", \"Scaled sound pressure\"])\n",
    "\n",
    "# Yacht Hydrodynamics\n",
    "yacht_hydro_df = pd.read_table(\n",
    "    filepath_or_buffer = \"https://archive.ics.uci.edu/ml/machine-learning-databases/00243/yacht_hydrodynamics.data\",\n",
    "    names = [\"Longitudinal buoyancy\", \"Prismatic coefficient\", \"Length-displacement\", \"Beam-draught\", \n",
    "             \"Length-beam\", \"Froude number\", \"Residuary resistance\"], delim_whitespace = True)\n",
    "\n",
    "# Concrete Slump\n",
    "concrete_slump_df = pd.read_csv(\n",
    "    filepath_or_buffer = \"https://archive.ics.uci.edu/ml/machine-learning-databases/concrete/slump/slump_test.data\",\n",
    "    names = [\"Cement\", \"Slag\", \"Fly ash\", \"Water\", \"SP\", \"Coarse Aggr.\", \"Fine Aggr.\", \"SLUMP\", \"FLOW\",\n",
    "             \"Compressive Strength\"], skiprows = 1)"
   ]
  },
  {
   "cell_type": "markdown",
   "metadata": {},
   "source": [
    "As we have downloaded and imported those as pandas dataframe format here, lets verify that we have all the three dataset by viewing the top 5 rows in the dataset."
   ]
  },
  {
   "cell_type": "code",
   "execution_count": 3,
   "metadata": {},
   "outputs": [
    {
     "data": {
      "text/html": [
       "<div>\n",
       "<style scoped>\n",
       "    .dataframe tbody tr th:only-of-type {\n",
       "        vertical-align: middle;\n",
       "    }\n",
       "\n",
       "    .dataframe tbody tr th {\n",
       "        vertical-align: top;\n",
       "    }\n",
       "\n",
       "    .dataframe thead th {\n",
       "        text-align: right;\n",
       "    }\n",
       "</style>\n",
       "<table border=\"1\" class=\"dataframe\">\n",
       "  <thead>\n",
       "    <tr style=\"text-align: right;\">\n",
       "      <th></th>\n",
       "      <th>Frequency</th>\n",
       "      <th>Angle of attack</th>\n",
       "      <th>Chord length</th>\n",
       "      <th>Free-stream velocity</th>\n",
       "      <th>Suction side displacement</th>\n",
       "      <th>Scaled sound pressure</th>\n",
       "    </tr>\n",
       "  </thead>\n",
       "  <tbody>\n",
       "    <tr>\n",
       "      <th>0</th>\n",
       "      <td>800</td>\n",
       "      <td>0.0</td>\n",
       "      <td>0.3048</td>\n",
       "      <td>71.3</td>\n",
       "      <td>0.002663</td>\n",
       "      <td>126.201</td>\n",
       "    </tr>\n",
       "    <tr>\n",
       "      <th>1</th>\n",
       "      <td>1000</td>\n",
       "      <td>0.0</td>\n",
       "      <td>0.3048</td>\n",
       "      <td>71.3</td>\n",
       "      <td>0.002663</td>\n",
       "      <td>125.201</td>\n",
       "    </tr>\n",
       "    <tr>\n",
       "      <th>2</th>\n",
       "      <td>1250</td>\n",
       "      <td>0.0</td>\n",
       "      <td>0.3048</td>\n",
       "      <td>71.3</td>\n",
       "      <td>0.002663</td>\n",
       "      <td>125.951</td>\n",
       "    </tr>\n",
       "    <tr>\n",
       "      <th>3</th>\n",
       "      <td>1600</td>\n",
       "      <td>0.0</td>\n",
       "      <td>0.3048</td>\n",
       "      <td>71.3</td>\n",
       "      <td>0.002663</td>\n",
       "      <td>127.591</td>\n",
       "    </tr>\n",
       "    <tr>\n",
       "      <th>4</th>\n",
       "      <td>2000</td>\n",
       "      <td>0.0</td>\n",
       "      <td>0.3048</td>\n",
       "      <td>71.3</td>\n",
       "      <td>0.002663</td>\n",
       "      <td>127.461</td>\n",
       "    </tr>\n",
       "  </tbody>\n",
       "</table>\n",
       "</div>"
      ],
      "text/plain": [
       "   Frequency  Angle of attack  Chord length  Free-stream velocity  \\\n",
       "0        800              0.0        0.3048                  71.3   \n",
       "1       1000              0.0        0.3048                  71.3   \n",
       "2       1250              0.0        0.3048                  71.3   \n",
       "3       1600              0.0        0.3048                  71.3   \n",
       "4       2000              0.0        0.3048                  71.3   \n",
       "\n",
       "   Suction side displacement  Scaled sound pressure  \n",
       "0                   0.002663                126.201  \n",
       "1                   0.002663                125.201  \n",
       "2                   0.002663                125.951  \n",
       "3                   0.002663                127.591  \n",
       "4                   0.002663                127.461  "
      ]
     },
     "execution_count": 3,
     "metadata": {},
     "output_type": "execute_result"
    }
   ],
   "source": [
    "airfoil_df.head()"
   ]
  },
  {
   "cell_type": "code",
   "execution_count": 4,
   "metadata": {},
   "outputs": [
    {
     "data": {
      "text/html": [
       "<div>\n",
       "<style scoped>\n",
       "    .dataframe tbody tr th:only-of-type {\n",
       "        vertical-align: middle;\n",
       "    }\n",
       "\n",
       "    .dataframe tbody tr th {\n",
       "        vertical-align: top;\n",
       "    }\n",
       "\n",
       "    .dataframe thead th {\n",
       "        text-align: right;\n",
       "    }\n",
       "</style>\n",
       "<table border=\"1\" class=\"dataframe\">\n",
       "  <thead>\n",
       "    <tr style=\"text-align: right;\">\n",
       "      <th></th>\n",
       "      <th>Longitudinal buoyancy</th>\n",
       "      <th>Prismatic coefficient</th>\n",
       "      <th>Length-displacement</th>\n",
       "      <th>Beam-draught</th>\n",
       "      <th>Length-beam</th>\n",
       "      <th>Froude number</th>\n",
       "      <th>Residuary resistance</th>\n",
       "    </tr>\n",
       "  </thead>\n",
       "  <tbody>\n",
       "    <tr>\n",
       "      <th>0</th>\n",
       "      <td>-2.3</td>\n",
       "      <td>0.568</td>\n",
       "      <td>4.78</td>\n",
       "      <td>3.99</td>\n",
       "      <td>3.17</td>\n",
       "      <td>0.125</td>\n",
       "      <td>0.11</td>\n",
       "    </tr>\n",
       "    <tr>\n",
       "      <th>1</th>\n",
       "      <td>-2.3</td>\n",
       "      <td>0.568</td>\n",
       "      <td>4.78</td>\n",
       "      <td>3.99</td>\n",
       "      <td>3.17</td>\n",
       "      <td>0.150</td>\n",
       "      <td>0.27</td>\n",
       "    </tr>\n",
       "    <tr>\n",
       "      <th>2</th>\n",
       "      <td>-2.3</td>\n",
       "      <td>0.568</td>\n",
       "      <td>4.78</td>\n",
       "      <td>3.99</td>\n",
       "      <td>3.17</td>\n",
       "      <td>0.175</td>\n",
       "      <td>0.47</td>\n",
       "    </tr>\n",
       "    <tr>\n",
       "      <th>3</th>\n",
       "      <td>-2.3</td>\n",
       "      <td>0.568</td>\n",
       "      <td>4.78</td>\n",
       "      <td>3.99</td>\n",
       "      <td>3.17</td>\n",
       "      <td>0.200</td>\n",
       "      <td>0.78</td>\n",
       "    </tr>\n",
       "    <tr>\n",
       "      <th>4</th>\n",
       "      <td>-2.3</td>\n",
       "      <td>0.568</td>\n",
       "      <td>4.78</td>\n",
       "      <td>3.99</td>\n",
       "      <td>3.17</td>\n",
       "      <td>0.225</td>\n",
       "      <td>1.18</td>\n",
       "    </tr>\n",
       "  </tbody>\n",
       "</table>\n",
       "</div>"
      ],
      "text/plain": [
       "   Longitudinal buoyancy  Prismatic coefficient  Length-displacement  \\\n",
       "0                   -2.3                  0.568                 4.78   \n",
       "1                   -2.3                  0.568                 4.78   \n",
       "2                   -2.3                  0.568                 4.78   \n",
       "3                   -2.3                  0.568                 4.78   \n",
       "4                   -2.3                  0.568                 4.78   \n",
       "\n",
       "   Beam-draught  Length-beam  Froude number  Residuary resistance  \n",
       "0          3.99         3.17          0.125                  0.11  \n",
       "1          3.99         3.17          0.150                  0.27  \n",
       "2          3.99         3.17          0.175                  0.47  \n",
       "3          3.99         3.17          0.200                  0.78  \n",
       "4          3.99         3.17          0.225                  1.18  "
      ]
     },
     "execution_count": 4,
     "metadata": {},
     "output_type": "execute_result"
    }
   ],
   "source": [
    "yacht_hydro_df.head()"
   ]
  },
  {
   "cell_type": "markdown",
   "metadata": {},
   "source": [
    "## Question 1\n",
    "Develop a function with the following first line:\n",
    "\n",
    "### def my_regression(trainX, testX, noutputs)\n",
    "\n",
    "The input variables are:\n",
    "\n",
    "trainX - an [ntrain x (nfeature + noutputs)] array that contains the features in the first 'nfeature' columns and the outputs in the last 'noutput' columns\n",
    "testX - an [ntest x nfeature] array of test data for which the predictions are made\n",
    "noutputs - the number of output columns in trainX\n",
    "The output should be an [ntest x noutputs] array, which contains the prediction values for the testX data. Your my_regression code should do some kind of cross-validation to determine the right model for the training data, e.g., linear vs. polynomial vs. radial basis functions. Then this model is applied to the test data to make a prediction.\n",
    "\n",
    "#### Rules:\n",
    "Your code should not use any regression library, but can use NumPy as this will be useful for array handling.\n",
    "No other inputs are allowed.\n",
    "You may not use the testX data to train your model. Notice that outputs are not passed in for testing data.\n",
    "Your code can perform data scaling (scaling features to the interval [0,1] or z-score scaling), can use any basis functions you want, cross-validation on the training data, regularization, and model selection.\n",
    "Present your findings for each data set as a Jupyter notebook. Submit as a PDF. Present your squared error for several cross-validation fold of each data set.\n",
    "\n",
    "##### Solution\n",
    "I am dividing the whole project into three components which are as follows\n",
    "\n",
    "1. Data Processing\n",
    "2. Regression\n",
    "3. Regression Plots\n",
    "4. Each components listed above will be coded as seperate python classes and can be reused. The doc string are written for each classes and functions within the classes. Although, I am just setting the seed value for reproduciable research purpose."
   ]
  },
  {
   "cell_type": "code",
   "execution_count": 6,
   "metadata": {},
   "outputs": [],
   "source": [
    "# Setting the seed value\n",
    "seed = 123\n",
    "import random\n",
    "random.seed(seed)\n",
    "np.random.seed(seed)"
   ]
  },
  {
   "cell_type": "code",
   "execution_count": 8,
   "metadata": {},
   "outputs": [],
   "source": [
    "\n",
    "class DataProcessing:\n",
    "    \"\"\"Data Processing opertation \n",
    "    \n",
    "    Processing of data such as Normalization, spliting the data,\n",
    "    folding the data can be performed on the pandas dataframe\n",
    "    \n",
    "    Arguments:\n",
    "        Pandas dataframe that need to processed\n",
    "    \"\"\"\n",
    "    \n",
    "    def __init__(self):\n",
    "        \"\"\"Variable Initialization\n",
    "        \n",
    "        Initialize the class variables which can be accessed using \n",
    "        the self or class objects\n",
    "        \n",
    "        Arguments:\n",
    "            None\n",
    "        Returns:\n",
    "             None\n",
    "        \"\"\"\n",
    "        pass\n",
    "    \n",
    "    def z_score_norm(self, data):\n",
    "        \"\"\"Normalize the data using z-score\n",
    "        \n",
    "        Normalize the data which is mostly a pandas dataframe and \n",
    "        outputs normalized dataframe of the same using z-score \n",
    "        normalization.https://en.wikipedia.org/wiki/Standard_score\n",
    "        \n",
    "        Arguments:\n",
    "            data: Pandas Dataframe to be normalized\n",
    "            \n",
    "        Returns:\n",
    "            Normalized Pandas Dataframe\n",
    "        \"\"\"\n",
    "        # Finding the z-score using mean and standard deviation of each column\n",
    "        # Broadcasting is applied over the data\n",
    "        normalized_df = (data - data.mean()) / data.std()\n",
    "        return pd.DataFrame(normalized_df)\n",
    "    \n",
    "    def train_test_split(self, data, cut_at = 0.75):\n",
    "        \"\"\" Data is split into train and test set\n",
    "        \n",
    "        Split the data set into two random chuncks of train and test set \n",
    "        using the cut_at value. The cut_at value literally means how much \n",
    "        percentage of data you want to be in the training set and rest\n",
    "        of those goes to the testing set.\n",
    "        \n",
    "        Arguments:\n",
    "            data: Pandas Dataframe to be split into train and test\n",
    "            cut_at: Threshold for what percentage of data needs top be \n",
    "                in the training set. Ranges from 0 to 1. Default to 0.75\n",
    "                \n",
    "        Returns:\n",
    "            train: Training set of the data\n",
    "            test: Testing set of the data\n",
    "        \"\"\"\n",
    "        # Random sample of the train set is acquired\n",
    "        train = data.sample(frac = cut_at, random_state = 200)\n",
    "        # Rest are put in the test set\n",
    "        test = data.drop(train.index)\n",
    "        return train, test\n",
    "    \n",
    "    def pred_target_split(self, data, noutputs = 1):\n",
    "        \"\"\" Split the Predictors and output variables\n",
    "        \n",
    "        The Input data variable is take and predictors and n-output vectors \n",
    "        are drawn out of the complete data. Note that this function works only\n",
    "        when the output varibles are end/last column of the data.\n",
    "        \n",
    "        Arguments:\n",
    "            data: Pandas Dataframe to be split into Predictors and target\n",
    "            noutputs: Number of output variables in the dataset. Default to 1\n",
    "            \n",
    "        Returns:\n",
    "            predictors: Predictors of the data\n",
    "            outputs: Output variable of the data\n",
    "        \"\"\"\n",
    "        # Subsetting the predictors \n",
    "        predictors = data.iloc[:, 0:-noutputs]\n",
    "        # Subsetting the outputs\n",
    "        outputs = data.iloc[:, -noutputs:]\n",
    "        return predictors, outputs\n",
    "    \n",
    "    def k_fold(self, data, k = 7):\n",
    "        \"\"\" Create K folds of the data\n",
    "        \n",
    "        Data is split into K number of chunks depending on the k argument of \n",
    "        the function that can be used up for the cross validation purpose.\n",
    "        \n",
    "        Arguments:\n",
    "            data: Pandas Dataframe to be split into K Folds\n",
    "            k: Number of folds. Default to 7\n",
    "            \n",
    "        Returns:\n",
    "            index: Row index for each train and test set of the folds\n",
    "        \"\"\"\n",
    "        # Creating K-Fold cross validation index.\n",
    "        index = KFold(len(data), n_folds = k)\n",
    "        return index"
   ]
  },
  {
   "cell_type": "markdown",
   "metadata": {},
   "source": [
    "## Regression"
   ]
  },
  {
   "cell_type": "code",
   "execution_count": 9,
   "metadata": {},
   "outputs": [],
   "source": [
    "class Regression:\n",
    "    \"\"\"Perform regression on data\n",
    "    \n",
    "    Looks over the predictor and target outputs with linear and Gaussian\n",
    "    basis function with different lamda values and doing the model selection\n",
    "    based on k-fold cross validation on the metrics of least mean sum of \n",
    "    squares error value.\n",
    "    \n",
    "    Arguments:\n",
    "        k_fold: Number of folds of the data used for the model selection\n",
    "        lamda_values: List of float values generally of increasing log scale\n",
    "            that are used in the closed solution to find best optimal lamda \n",
    "            for the final model.\n",
    "    \"\"\"\n",
    "    \n",
    "    # Creating the data Processing object for training data\n",
    "    data_process = DataProcessing()\n",
    "    \n",
    "    def __init__(self, k_fold = 7):\n",
    "        self.k_fold = k_fold\n",
    "        self.lamda_values = [0, 0.0001, 0.001, 0.01, 0.1, 0, 1, 10, 100]\n",
    "        self.kernels = [\"linear\", \"gaussian\"]\n",
    "        self.parameters_list = []\n",
    "        self.n_points = 10\n",
    "        self.model_param = []\n",
    "        \n",
    "    def lmse(self, actual, pred):\n",
    "        \"\"\" Find the Prediction LMSE\n",
    "        \n",
    "        LMSE -  Least Mean Square Error is the average squared difference \n",
    "        between the prediction and actual values. The inputs are actual and \n",
    "        predicted values that outputs the LMSE rounded off to two digits.\n",
    "        \n",
    "        Arguments:\n",
    "            actual: Actual value from the dataset. continuous value.\n",
    "            pred: Predicted value for the data. continuous value.\n",
    "            \n",
    "        Returns:\n",
    "            lmse: Least Mean Square Error value\n",
    "        \"\"\"\n",
    "        # Computing the LMSE and rounding of to two digits\n",
    "        lmse = round(np.sum((actual - pred) ** 2) / len(actual), 2)\n",
    "        return lmse\n",
    "\n",
    "    def gaussian_kernel(self, data, n_points = 10):\n",
    "        \"\"\" Apply gaussian function on the data \n",
    "        \n",
    "        Dataset with x feature vector is passed over the n - gaussian function that\n",
    "        is computed using random pick of observation from the dataset and converted \n",
    "        into n feauture vectors from x features. This makes the data to be around your\n",
    "        n data points you selected.\n",
    "        \n",
    "        Arguments:\n",
    "            data: Data to be changed into gaussian form\n",
    "            n_points: Number of gaussian kernels/functions/points to refine into\n",
    "        \n",
    "        Returns:\n",
    "            gaussian: N feature vectors represetation of the input dataset.\n",
    "        \"\"\"\n",
    "        # Set the sigma value to be no. of original features\n",
    "        sigma = data.shape[1]\n",
    "        # Setting the random seed and sampling the points from the data\n",
    "        random.seed(100)\n",
    "        points = random.sample(list(data.index), n_points)\n",
    "        # Initialize the gaussian kernel feature vector\n",
    "        gaussian = np.zeros((data.shape[0], n_points))\n",
    "        col = 0\n",
    "        # Iterate through the n points to come up with n gaussian feauture vectors\n",
    "        for point in points:\n",
    "            gaussian[:, col] = np.exp(-np.linalg.norm(data - data.loc[point, :], 2, axis = 1) ** 2 \n",
    "                                      / (2. * sigma ** 2))\n",
    "            col += 1\n",
    "        return gaussian\n",
    "    \n",
    "    def cv_fit(self, x_train, y_train, k_fold):\n",
    "        \"\"\" Model Selection using Cross validation\n",
    "        \n",
    "        Selecting the best fit regression model and hyper parameters such \n",
    "        as lamda and basis functions using cross validation on the feauture \n",
    "        vectors and our output variable(s) and linear regression's closed\n",
    "        form solution.\n",
    "        \n",
    "        Arguments:\n",
    "            x_train: Predictors of the Training set\n",
    "            y_train: Output of the Training set\n",
    "            k_fold: Number of fold for the cross validation\n",
    "            \n",
    "        Returns:\n",
    "            model_param: A dictinoary consists of selected model weights, \n",
    "                lamda value, lmse value, and kernel functions\n",
    "        \"\"\"\n",
    "        \n",
    "        # Initialize variables \n",
    "        weights = np.zeros((x_train.shape[1],))\n",
    "        best_weights = weights\n",
    "        identity = np.identity(x_train.shape[1])\n",
    "        best_lmse = float(\"inf\")\n",
    "        best_lamda = 0.\n",
    "        best_kernel = \"\"\n",
    "        \n",
    "        # K Fold cross validation index generetion\n",
    "        cv = self.data_process.k_fold(data = x_train, k = k_fold)\n",
    "        \n",
    "        # Looping through the basis function\n",
    "        for kernel in self.kernels:\n",
    "            # Chacking the Gaussian function\n",
    "            if kernel is \"gaussian\":\n",
    "                x_train = self.gaussian_kernel(pd.DataFrame(x_train), self.n_points)\n",
    "                identity = np.identity(x_train.shape[1])\n",
    "            # Looping through Lamda\n",
    "            for lamda in self.lamda_values:\n",
    "                lmse = 0\n",
    "                for train_cv, test_cv in cv:\n",
    "                    # Split up the train and test for each iteration\n",
    "                    x_train_cv = x_train[train_cv]\n",
    "                    y_train_cv = y_train[train_cv]\n",
    "                    x_test_cv = x_train[test_cv]\n",
    "                    y_test_cv = y_train[test_cv]\n",
    "                    # Closed form solution for each lamda values\n",
    "                    inverse = np.linalg.inv(lamda*identity + np.dot(x_train_cv.T, x_train_cv))\n",
    "                    data_term = np.dot(x_train_cv.T, y_train_cv)\n",
    "                    weights = np.dot(inverse, data_term)\n",
    "                    # Predict with the test set\n",
    "                    prediction = np.dot(x_test_cv, weights)\n",
    "                    # Find the LMSE value for the set\n",
    "                    lmse += (np.sum((y_test_cv - prediction) ** 2) / len(y_test_cv))\n",
    "                # LMSE for each lamda\n",
    "                lmse = lmse / k_fold\n",
    "                # Preparing the parameter list for further analysis\n",
    "                # Storing the result in class variable\n",
    "                parameters = {'basis_function': kernel, \n",
    "                              'lamda': lamda,\n",
    "                              'lmse': lmse,\n",
    "                              'weights': weights}\n",
    "                self.parameters_list.append(parameters)\n",
    "                # Update the best parameters\n",
    "                if best_lmse > lmse:\n",
    "                    best_lmse = lmse\n",
    "                    best_lamda = lamda\n",
    "                    best_weights = weights\n",
    "                    best_kernel = kernel \n",
    "        model_param = {\"weights\": best_weights, \"kernel\": best_kernel, \"lamda\": best_lamda, \"lmse\": best_lmse}\n",
    "        self.model_param.append(model_param)\n",
    "        return model_param\n",
    "\n",
    "    def my_regression(self, trainX, testX, noutputs):\n",
    "        \"\"\" Make Prediction for continuous output(s)\n",
    "        \n",
    "        Takes training set and performs cross validation to select the best \n",
    "        parameter (lamda value of the closed form solution, basis function) \n",
    "        for the model selection and use that model on the testing set to \n",
    "        output the prediction for the testing data.\n",
    "        \n",
    "        Arguments:\n",
    "            trainX - an [ntrain x (nfeature + noutputs)] array that contains\n",
    "                the features in the first 'nfeature' columns and the outputs \n",
    "                in the last 'noutput' columns\n",
    "            testX - an [ntest x nfeature] array of test data for which the \n",
    "                predictions are made\n",
    "            noutputs - the number of output columns in trainX\n",
    "            \n",
    "        Returns:\n",
    "            prediction: [ntest x noutputs] array, which contains the prediction \n",
    "                values for the testX data\n",
    "        \"\"\"        \n",
    "        # Normalize the train and test data\n",
    "        trainX.iloc[:, 0:-noutputs] = self.data_process.z_score_norm(trainX.iloc[:, 0:-noutputs])\n",
    "        testX = self.data_process.z_score_norm(testX)        \n",
    "        # Split the train data into predictors and target variables\n",
    "        x_train, y_train = self.data_process.pred_target_split(trainX, noutputs = noutputs)              \n",
    "        # Include the bias term in the feature vector at the last\n",
    "        x_train[\"bias\"] = 1\n",
    "        testX[\"bias\"] = 1\n",
    "        # Convert Dataframe to Numpy array\n",
    "        x_train = x_train.values\n",
    "        y_train = y_train.values \n",
    "        # Intializing the prediction array with zeros\n",
    "        prediction = np.zeros((testX.shape[0], noutputs)) \n",
    "        # Get the best fit for the data with cross validation\n",
    "        model = self.cv_fit(x_train, y_train, self.k_fold)\n",
    "        # Check if the kernel is gaussian\n",
    "        if model[\"kernel\"] is \"gaussian\":\n",
    "            # Redefine in gaussian feature\n",
    "            gaus = self.gaussian_kernel(pd.DataFrame(np.concatenate((x_train, testX.values))),\n",
    "                                                self.n_points)\n",
    "            x_train_gaus = gaus[0:len(x_train), :]  \n",
    "            x_test_gaus = gaus[len(x_train):, :]\n",
    "            # Initialize the identity matrix\n",
    "            identity = np.identity(x_train_gaus.shape[1])\n",
    "            # Train with the whole training data\n",
    "            inverse = np.linalg.inv(model[\"lamda\"] * identity + np.dot(x_train_gaus.T, x_train_gaus))\n",
    "            data_term = np.dot(x_train_gaus.T, y_train)\n",
    "            weights = np.dot(inverse, data_term)\n",
    "            # Predict with the test data\n",
    "            # Inverse/rescale for the z-score norm\n",
    "            prediction = np.dot(x_test_gaus, weights)\n",
    "        else:\n",
    "            # Initialize the identity matrix\n",
    "            identity = np.identity(x_train.shape[1])\n",
    "            # Train with the whole training data\n",
    "            inverse = np.linalg.inv(model[\"lamda\"] * identity + np.dot(x_train.T, x_train))\n",
    "            data_term = np.dot(x_train.T, y_train)\n",
    "            weights = np.dot(inverse, data_term)\n",
    "            # Predict with the test data\n",
    "            # Inverse/rescale for the z-score norm\n",
    "            prediction = np.dot(testX.values, weights)\n",
    "        return prediction"
   ]
  },
  {
   "cell_type": "markdown",
   "metadata": {},
   "source": [
    "#### Above we had our main two classes that contains the function needed for calculating the regression using numpy packages. Let's use those find the prediction for each dataset one by one."
   ]
  },
  {
   "cell_type": "markdown",
   "metadata": {},
   "source": [
    "## Airfoil Dataset"
   ]
  },
  {
   "cell_type": "code",
   "execution_count": 10,
   "metadata": {},
   "outputs": [
    {
     "data": {
      "text/plain": [
       "array([127.33113782, 117.64481597, 126.01235471, 125.51458539,\n",
       "       125.17825477, 113.40668309, 125.01623034, 123.60364173,\n",
       "       123.81723075, 123.14456951, 126.35294204, 126.01661142,\n",
       "       122.3169746 , 116.93568469, 124.01837754, 123.48024855,\n",
       "       123.21118406, 121.19320034, 120.31874073, 119.17521662,\n",
       "       116.08097492, 113.79392671, 126.41941243, 126.28488018,\n",
       "       125.88128344, 125.27588832, 124.26689647, 122.71977562,\n",
       "       113.50431664, 123.25280345, 119.55316663, 117.06432005,\n",
       "       122.4359302 , 119.61075299, 114.49852757, 125.76947722,\n",
       "       125.5945853 , 125.09681598, 124.28962249, 121.06084855,\n",
       "       112.98891367, 109.62560748, 122.83163405, 122.40785747,\n",
       "       119.89210443, 119.01764482, 129.55299226, 129.08212939,\n",
       "       128.5440004 , 126.99687955, 125.85335544, 128.61387593,\n",
       "       127.53761794, 126.99948895, 127.27286116, 127.04415634,\n",
       "       125.42976937, 124.75710813, 121.39380193, 126.90507054,\n",
       "       126.79071813, 129.64223344, 128.63324158, 127.07938639,\n",
       "       123.37974957, 126.63812342, 124.48560745, 122.9384866 ,\n",
       "       118.7007208 , 125.02759942, 124.22040593, 115.89287261,\n",
       "       102.43964783, 127.10680739, 122.39817872, 121.05285624,\n",
       "       125.50142095, 125.32652903, 124.82875971, 122.81077599,\n",
       "       125.0183416 , 127.78580505, 127.55710023, 127.28803574,\n",
       "       125.94271326, 123.2520683 , 124.34822112, 124.07915662,\n",
       "       121.18671329, 120.04318919, 116.94894749, 125.88018186,\n",
       "       124.80392388, 118.48090823, 124.88962225, 123.96807635,\n",
       "       123.63174573, 121.95009263, 123.2484642 , 120.22148862,\n",
       "       121.82165546, 120.51669266, 119.97856367, 115.94259623,\n",
       "       131.91357794, 130.70278771, 129.8283281 , 128.68480399,\n",
       "       127.33948152, 120.61286912, 117.24956293, 121.76274319,\n",
       "       130.11408813, 128.49309202, 127.48410016, 121.6992135 ,\n",
       "       131.78596026, 130.17157329, 129.49891205, 127.48092833,\n",
       "       124.38668663, 129.05531239, 128.88042047, 126.36466744,\n",
       "       124.34668372, 116.27474885, 130.86109184, 127.29598727,\n",
       "       129.42208132, 128.88395233, 125.7224445 , 124.5789204 ,\n",
       "       121.4846787 , 119.19763048, 127.80555641, 127.26742742,\n",
       "       126.6620323 , 125.65304045, 119.86815379, 126.66793035,\n",
       "       126.43922553, 123.27771771, 120.78887112, 129.69238783,\n",
       "       128.07800086, 124.84922691, 116.77729204, 126.49220362,\n",
       "       125.83972222, 125.57065773, 124.22533525, 122.6782144 ,\n",
       "       113.46275542, 126.32154528, 126.09284045, 125.01658247,\n",
       "       122.93133263, 121.78780852, 125.11886578, 125.05159966,\n",
       "       124.84980128, 124.0426078 , 120.00664036, 123.16757738,\n",
       "       119.19887606, 121.27048751, 118.10897969, 113.87121388,\n",
       "       120.8447705 , 120.75732454, 120.50843988, 115.7998112 ,\n",
       "       114.45448873, 112.7055695 , 116.08290587, 115.88110749,\n",
       "       107.94370487, 136.51846965, 135.71127616, 132.48250221,\n",
       "       124.41056734, 133.65044708, 132.97778584, 130.95980212,\n",
       "       129.61447964, 133.46202212, 132.11669964, 126.33181298,\n",
       "       123.28178199, 130.71487735, 125.33358744, 131.34997326,\n",
       "       128.79386055, 124.55609474, 131.63610669, 128.40733274,\n",
       "       131.57085739, 131.39596547, 131.16726065, 128.00575283,\n",
       "       130.14042428, 129.83100011, 128.5260373 , 127.20367959,\n",
       "       124.51303463, 130.92869735, 130.65963285, 130.12150386,\n",
       "       129.51610875, 125.81647193, 127.13679438, 126.90808956,\n",
       "       122.60305763, 122.0677798 , 118.9735381 , 125.37624142,\n",
       "       123.64750204, 117.32448639, 123.82114566, 123.55208116,\n",
       "       123.41754891, 117.36359776, 122.35985795, 122.13115313,\n",
       "       121.52575801, 124.02912643, 123.78024177, 123.60534984,\n",
       "       123.10758053, 122.30038704, 121.76225805, 120.73442799,\n",
       "       120.5797159 , 120.46536349, 120.15593932, 117.64018629,\n",
       "       134.59671167, 132.10786509, 130.35894586, 117.30931782,\n",
       "       133.09138567, 125.0194508 , 133.3389796 , 131.6573265 ,\n",
       "       113.49547304, 133.50835964, 128.62182139, 121.89520899,\n",
       "       118.5319028 , 133.14128395, 132.96639203, 131.66142923,\n",
       "       129.57617938, 128.43265528, 120.36072041, 132.20290462,\n",
       "       131.36880469, 130.35981283, 127.66916787, 133.10874695,\n",
       "       127.72745704, 125.97853782, 132.37619171, 130.22367574,\n",
       "       130.68415483, 130.28055809, 125.97552615, 130.03953688,\n",
       "       129.90500463, 129.73011271, 129.50140789, 127.88702092,\n",
       "       123.85105348, 130.76599766, 130.49693317, 129.68973968,\n",
       "       121.07967582, 127.97847401, 127.80358209, 127.57487727,\n",
       "       127.30581277, 124.41336944, 123.26984534, 115.19791047,\n",
       "       128.48112291, 127.64702297, 127.17616011, 125.09091026,\n",
       "       120.85314446, 118.56609624, 127.30661609, 127.19226368,\n",
       "       126.65413469, 126.04873957, 125.5778767 , 125.82229032,\n",
       "       125.66757824, 125.55322583, 125.41869358, 125.01509684,\n",
       "       122.72804862, 121.85358901, 119.36474243, 124.71856329,\n",
       "       123.57503918, 122.56604733, 126.00154509, 125.1943516 ,\n",
       "       123.84902912, 121.15838417, 118.06414246, 115.77709425,\n",
       "       122.97073634, 121.08728487, 135.11041456, 133.80545176,\n",
       "       132.59466153, 131.72020192, 130.57667781, 122.50474294,\n",
       "       133.34412588, 129.03909395, 123.65780403, 120.96715907,\n",
       "       117.60385288, 131.52202572, 122.10476837, 129.94891915,\n",
       "       128.73812892, 123.62590351, 133.17669665, 127.79540673,\n",
       "       132.1243734 , 129.60862036, 122.20934673, 130.55488643,\n",
       "       129.7207865 , 128.71179464, 122.92690798, 120.63985976,\n",
       "       129.78466569, 127.94157389, 131.3725232 , 130.02720073,\n",
       "       128.48007988, 127.76229734, 128.96255334, 128.17780845,\n",
       "       127.37061496, 127.03428434, 126.56342147, 126.02529248,\n",
       "       130.64575345, 125.53352803, 127.16556546, 126.96376709,\n",
       "       126.82923484, 126.4256381 , 124.9205818 , 124.74568987,\n",
       "       120.21195312, 117.11771142, 122.70976329, 121.87566336,\n",
       "       115.08178484, 120.6762143 , 119.66722244, 117.11110973,\n",
       "       120.14220261, 119.98749052, 119.06594463, 117.72062215,\n",
       "       122.27088347, 122.18343751, 121.75966093, 116.6651683 ])"
      ]
     },
     "execution_count": 10,
     "metadata": {},
     "output_type": "execute_result"
    }
   ],
   "source": [
    "airfoil_regressor = Regression()\n",
    "airfoil_data_process = DataProcessing()\n",
    "airfoil_df_train, airfoil_df_test = airfoil_data_process.train_test_split(airfoil_df)\n",
    "prediction = airfoil_regressor.my_regression(airfoil_df_train, airfoil_df_test.iloc[:, 0:-1], 1)\n",
    "prediction.reshape(len(prediction), )"
   ]
  },
  {
   "cell_type": "markdown",
   "metadata": {},
   "source": [
    " Above we have the prediction values for the airfoil dataset using the selected model on the test set. Lets us see what are parameters used for the model using the model param variable of the regressor class object."
   ]
  },
  {
   "cell_type": "code",
   "execution_count": 11,
   "metadata": {},
   "outputs": [
    {
     "data": {
      "text/plain": [
       "[{'weights': array([[ -4.10692447],\n",
       "         [ -2.40935473],\n",
       "         [ -3.39686533],\n",
       "         [  1.47280792],\n",
       "         [ -2.06332953],\n",
       "         [124.79044843]]),\n",
       "  'kernel': 'linear',\n",
       "  'lamda': 0.1,\n",
       "  'lmse': 23.665798767415858}]"
      ]
     },
     "execution_count": 11,
     "metadata": {},
     "output_type": "execute_result"
    }
   ],
   "source": [
    "airfoil_regressor.model_param"
   ]
  },
  {
   "cell_type": "markdown",
   "metadata": {},
   "source": [
    "Thus we can see clearly that the best model for the airfoil dataset after 10 fold cross validation model selection has the following parameters and values\n",
    "\n",
    "Kernel : Linear\n",
    "Lamda value : 0.1\n",
    "Least Mean Square Error value: ~23.67\n",
    "Lets us the see how the best model is performing over the test data we set apart at first itself using least mean square value."
   ]
  },
  {
   "cell_type": "code",
   "execution_count": 12,
   "metadata": {},
   "outputs": [
    {
     "name": "stdout",
     "output_type": "stream",
     "text": [
      "22.33\n"
     ]
    }
   ],
   "source": [
    "lmse = airfoil_regressor.lmse(airfoil_df_test.iloc[:, -1].values.reshape(len(airfoil_df_test), 1), prediction)\n",
    "print(lmse)"
   ]
  },
  {
   "cell_type": "markdown",
   "metadata": {},
   "source": [
    "Thus we have Least Mean Square Error of 22.33 on the test set using Linear basis function itself and lamda as 0.1. It shows that the airfoil dataset have good result with the simple linear basis function itself instead of a complex Gaussian one. In addition, I have done small analysis over the cross validation data of this dataframe using some visualization to say why and how I selected linear to be my basis linear function and lamda value for the model. I have also created a plot function for reusing it for later times."
   ]
  },
  {
   "cell_type": "code",
   "execution_count": 13,
   "metadata": {},
   "outputs": [
    {
     "data": {
      "text/html": [
       "\n",
       "<div class=\"bk-root\">\n",
       "    <div class=\"bk-plotdiv\" id=\"f5431c32-351e-4afa-abab-e61b1fdda03e\"></div>\n",
       "</div>"
      ]
     },
     "metadata": {},
     "output_type": "display_data"
    },
    {
     "data": {
      "application/javascript": [
       "(function(root) {\n",
       "  function embed_document(root) {\n",
       "    \n",
       "  var docs_json = {\"f3a99d82-45cc-4cfd-b09f-5534748ed61f\":{\"roots\":{\"references\":[{\"attributes\":{\"source\":{\"id\":\"078bc7d2-51b7-498f-a1b7-a18942e957de\",\"type\":\"ColumnDataSource\"}},\"id\":\"e7202f61-7383-4623-a7ee-f4ee1b217d19\",\"type\":\"CDSView\"},{\"attributes\":{\"items\":[{\"id\":\"11783c20-7db9-4e5e-bd90-c96484e0251a\",\"type\":\"LegendItem\"},{\"id\":\"cf691895-ff2e-4729-a796-db2d0c07daae\",\"type\":\"LegendItem\"}],\"location\":\"center\",\"plot\":{\"id\":\"0f8923ed-5758-4bc2-a253-89f7f87adb7b\",\"subtype\":\"Figure\",\"type\":\"Plot\"}},\"id\":\"95655052-3909-4ebd-ab9a-7b228cfe0f70\",\"type\":\"Legend\"},{\"attributes\":{},\"id\":\"8269779a-1efb-489f-b617-2941bbfca1ae\",\"type\":\"BasicTickFormatter\"},{\"attributes\":{},\"id\":\"076f1532-e2bb-4113-9683-df942b96ca7d\",\"type\":\"BasicTickFormatter\"},{\"attributes\":{},\"id\":\"c3a7f07e-9559-47f5-9217-9e6acd5c3853\",\"type\":\"Selection\"},{\"attributes\":{},\"id\":\"7af9ea08-bda0-4964-9f6e-797c0088880e\",\"type\":\"UnionRenderers\"},{\"attributes\":{\"callback\":null,\"data\":{\"x\":{\"__ndarray__\":\"AAAAAAAAAAAtQxzr4jYaP/yp8dJNYlA/exSuR+F6hD+amZmZmZm5PwAAAAAAAPA/AAAAAAAAJEAAAAAAAABZQA==\",\"dtype\":\"float64\",\"shape\":[8]},\"y\":{\"__ndarray__\":\"QAwXJBL8PkDy8FsgOFw/QCfgKUNgM0JAe6c7f271RUDVzUqhXDhHQEAMFyQS/D5APi9Q8hMbSEAwLuJ8NZBJQMvAgceghUxA\",\"dtype\":\"float64\",\"shape\":[9]}},\"selected\":{\"id\":\"f5f64ae3-5225-4cfa-9281-6115d2070fb3\",\"type\":\"Selection\"},\"selection_policy\":{\"id\":\"6240c19f-f3aa-4947-a9c0-c9a6dcae4d35\",\"type\":\"UnionRenderers\"}},\"id\":\"5e02a473-0747-43c1-835f-2ea345150852\",\"type\":\"ColumnDataSource\"},{\"attributes\":{\"data_source\":{\"id\":\"5e02a473-0747-43c1-835f-2ea345150852\",\"type\":\"ColumnDataSource\"},\"glyph\":{\"id\":\"ad074d88-7921-400f-940d-d06643f0e404\",\"type\":\"Line\"},\"hover_glyph\":null,\"muted_glyph\":null,\"nonselection_glyph\":{\"id\":\"5f080376-6b4b-417f-bbe1-e04559e05d40\",\"type\":\"Line\"},\"selection_glyph\":null,\"view\":{\"id\":\"982ca45e-a4cd-4294-a7fa-e44a637d3ba8\",\"type\":\"CDSView\"}},\"id\":\"f44e95e7-c166-49d4-b061-2a1b19bcb006\",\"type\":\"GlyphRenderer\"},{\"attributes\":{\"line_alpha\":0.1,\"line_color\":\"#1f77b4\",\"line_width\":4,\"x\":{\"field\":\"x\"},\"y\":{\"field\":\"y\"}},\"id\":\"5f080376-6b4b-417f-bbe1-e04559e05d40\",\"type\":\"Line\"},{\"attributes\":{\"align\":\"center\",\"plot\":null,\"text\":\"Airfoil Dataset\",\"text_font_size\":{\"value\":\"20pt\"}},\"id\":\"2f808e02-1d05-4b86-bd39-1b0b79ffe8bc\",\"type\":\"Title\"},{\"attributes\":{\"label\":{\"value\":\"GAUSSIAN\"},\"renderers\":[{\"id\":\"f44e95e7-c166-49d4-b061-2a1b19bcb006\",\"type\":\"GlyphRenderer\"}]},\"id\":\"cf691895-ff2e-4729-a796-db2d0c07daae\",\"type\":\"LegendItem\"},{\"attributes\":{\"callback\":null},\"id\":\"14b99e14-e61d-4da4-91f6-5c49cde8835e\",\"type\":\"DataRange1d\"},{\"attributes\":{\"line_color\":\"#b5cf6b\",\"line_width\":4,\"x\":{\"field\":\"x\"},\"y\":{\"field\":\"y\"}},\"id\":\"ad074d88-7921-400f-940d-d06643f0e404\",\"type\":\"Line\"},{\"attributes\":{\"active_drag\":\"auto\",\"active_inspect\":\"auto\",\"active_scroll\":\"auto\",\"active_tap\":\"auto\",\"tools\":[{\"id\":\"64b0f999-2955-43e5-af37-79621c7dd2ef\",\"type\":\"PanTool\"},{\"id\":\"047fe01f-1656-4668-8f5e-1e559d48d1d4\",\"type\":\"WheelZoomTool\"},{\"id\":\"8ecb5fea-3073-4cd6-966e-964812f29280\",\"type\":\"BoxZoomTool\"},{\"id\":\"2fcd653f-d4d2-4b35-8574-040fffc8457f\",\"type\":\"SaveTool\"},{\"id\":\"05c858c3-f98d-49cd-b454-445f9103bd88\",\"type\":\"ResetTool\"},{\"id\":\"d9c3d0c6-b84e-4ed5-87f7-9215ecef3d77\",\"type\":\"HelpTool\"}]},\"id\":\"d5929d20-3cbd-42be-8eba-45b013f82de7\",\"type\":\"Toolbar\"},{\"attributes\":{\"source\":{\"id\":\"5e02a473-0747-43c1-835f-2ea345150852\",\"type\":\"ColumnDataSource\"}},\"id\":\"982ca45e-a4cd-4294-a7fa-e44a637d3ba8\",\"type\":\"CDSView\"},{\"attributes\":{},\"id\":\"5523b6f2-7768-4e38-88b2-c433a0dac158\",\"type\":\"LinearScale\"},{\"attributes\":{\"callback\":null},\"id\":\"0c6d0063-a054-4901-8fd4-d9d874fa6011\",\"type\":\"DataRange1d\"},{\"attributes\":{},\"id\":\"e8179222-dd56-413e-acce-684e438200bf\",\"type\":\"LinearScale\"},{\"attributes\":{\"axis_label\":\"Lamda\",\"axis_label_text_font_size\":{\"value\":\"20pt\"},\"formatter\":{\"id\":\"8269779a-1efb-489f-b617-2941bbfca1ae\",\"type\":\"BasicTickFormatter\"},\"plot\":{\"id\":\"0f8923ed-5758-4bc2-a253-89f7f87adb7b\",\"subtype\":\"Figure\",\"type\":\"Plot\"},\"ticker\":{\"id\":\"4aea77f4-5bb1-4281-ae39-49c40dffea2d\",\"type\":\"BasicTicker\"}},\"id\":\"9b8dc0d8-eba7-4434-8ef8-e65979e309a6\",\"type\":\"LinearAxis\"},{\"attributes\":{},\"id\":\"4aea77f4-5bb1-4281-ae39-49c40dffea2d\",\"type\":\"BasicTicker\"},{\"attributes\":{\"plot\":{\"id\":\"0f8923ed-5758-4bc2-a253-89f7f87adb7b\",\"subtype\":\"Figure\",\"type\":\"Plot\"},\"ticker\":{\"id\":\"4aea77f4-5bb1-4281-ae39-49c40dffea2d\",\"type\":\"BasicTicker\"}},\"id\":\"b86afaed-6b84-4696-8f0e-1d215f25f24e\",\"type\":\"Grid\"},{\"attributes\":{\"axis_label\":\"Mean Square Error\",\"axis_label_text_font_size\":{\"value\":\"20pt\"},\"formatter\":{\"id\":\"076f1532-e2bb-4113-9683-df942b96ca7d\",\"type\":\"BasicTickFormatter\"},\"plot\":{\"id\":\"0f8923ed-5758-4bc2-a253-89f7f87adb7b\",\"subtype\":\"Figure\",\"type\":\"Plot\"},\"ticker\":{\"id\":\"6f32c5b6-8e74-482e-8b4d-96293f735af9\",\"type\":\"BasicTicker\"}},\"id\":\"d6c51b8e-57d5-491a-ba7c-a5af56b8546c\",\"type\":\"LinearAxis\"},{\"attributes\":{},\"id\":\"6f32c5b6-8e74-482e-8b4d-96293f735af9\",\"type\":\"BasicTicker\"},{\"attributes\":{\"dimension\":1,\"plot\":{\"id\":\"0f8923ed-5758-4bc2-a253-89f7f87adb7b\",\"subtype\":\"Figure\",\"type\":\"Plot\"},\"ticker\":{\"id\":\"6f32c5b6-8e74-482e-8b4d-96293f735af9\",\"type\":\"BasicTicker\"}},\"id\":\"09196994-76bb-45aa-97f4-878fb67eff9e\",\"type\":\"Grid\"},{\"attributes\":{\"bottom_units\":\"screen\",\"fill_alpha\":{\"value\":0.5},\"fill_color\":{\"value\":\"lightgrey\"},\"left_units\":\"screen\",\"level\":\"overlay\",\"line_alpha\":{\"value\":1.0},\"line_color\":{\"value\":\"black\"},\"line_dash\":[4,4],\"line_width\":{\"value\":2},\"plot\":null,\"render_mode\":\"css\",\"right_units\":\"screen\",\"top_units\":\"screen\"},\"id\":\"fce46243-1121-4da5-a198-7e71ae9f4b3a\",\"type\":\"BoxAnnotation\"},{\"attributes\":{},\"id\":\"6240c19f-f3aa-4947-a9c0-c9a6dcae4d35\",\"type\":\"UnionRenderers\"},{\"attributes\":{},\"id\":\"f5f64ae3-5225-4cfa-9281-6115d2070fb3\",\"type\":\"Selection\"},{\"attributes\":{},\"id\":\"64b0f999-2955-43e5-af37-79621c7dd2ef\",\"type\":\"PanTool\"},{\"attributes\":{\"callback\":null,\"data\":{\"x\":{\"__ndarray__\":\"AAAAAAAAAAAtQxzr4jYaP/yp8dJNYlA/exSuR+F6hD+amZmZmZm5PwAAAAAAAPA/AAAAAAAAJEAAAAAAAABZQA==\",\"dtype\":\"float64\",\"shape\":[8]},\"y\":{\"__ndarray__\":\"pU3UzXSqN0DIWjHKdKo3QJ/kuKl0qjdA0bSRfnOqN0CqxLvJcao3QKVN1M10qjdAEb8ygUSuN0ALSOyUPFE5QII7vXlCYWRA\",\"dtype\":\"float64\",\"shape\":[9]}},\"selected\":{\"id\":\"c3a7f07e-9559-47f5-9217-9e6acd5c3853\",\"type\":\"Selection\"},\"selection_policy\":{\"id\":\"7af9ea08-bda0-4964-9f6e-797c0088880e\",\"type\":\"UnionRenderers\"}},\"id\":\"078bc7d2-51b7-498f-a1b7-a18942e957de\",\"type\":\"ColumnDataSource\"},{\"attributes\":{},\"id\":\"047fe01f-1656-4668-8f5e-1e559d48d1d4\",\"type\":\"WheelZoomTool\"},{\"attributes\":{\"overlay\":{\"id\":\"fce46243-1121-4da5-a198-7e71ae9f4b3a\",\"type\":\"BoxAnnotation\"}},\"id\":\"8ecb5fea-3073-4cd6-966e-964812f29280\",\"type\":\"BoxZoomTool\"},{\"attributes\":{},\"id\":\"2fcd653f-d4d2-4b35-8574-040fffc8457f\",\"type\":\"SaveTool\"},{\"attributes\":{\"line_color\":\"#6b6ecf\",\"line_width\":4,\"x\":{\"field\":\"x\"},\"y\":{\"field\":\"y\"}},\"id\":\"07c41eb0-e928-4cb6-b0e8-4a93d5b85326\",\"type\":\"Line\"},{\"attributes\":{},\"id\":\"05c858c3-f98d-49cd-b454-445f9103bd88\",\"type\":\"ResetTool\"},{\"attributes\":{},\"id\":\"d9c3d0c6-b84e-4ed5-87f7-9215ecef3d77\",\"type\":\"HelpTool\"},{\"attributes\":{\"below\":[{\"id\":\"9b8dc0d8-eba7-4434-8ef8-e65979e309a6\",\"type\":\"LinearAxis\"}],\"left\":[{\"id\":\"d6c51b8e-57d5-491a-ba7c-a5af56b8546c\",\"type\":\"LinearAxis\"}],\"plot_width\":800,\"renderers\":[{\"id\":\"9b8dc0d8-eba7-4434-8ef8-e65979e309a6\",\"type\":\"LinearAxis\"},{\"id\":\"b86afaed-6b84-4696-8f0e-1d215f25f24e\",\"type\":\"Grid\"},{\"id\":\"d6c51b8e-57d5-491a-ba7c-a5af56b8546c\",\"type\":\"LinearAxis\"},{\"id\":\"09196994-76bb-45aa-97f4-878fb67eff9e\",\"type\":\"Grid\"},{\"id\":\"fce46243-1121-4da5-a198-7e71ae9f4b3a\",\"type\":\"BoxAnnotation\"},{\"id\":\"95655052-3909-4ebd-ab9a-7b228cfe0f70\",\"type\":\"Legend\"},{\"id\":\"b48948ed-c32c-4065-a77d-ec2e1128ff89\",\"type\":\"GlyphRenderer\"},{\"id\":\"f44e95e7-c166-49d4-b061-2a1b19bcb006\",\"type\":\"GlyphRenderer\"}],\"title\":{\"id\":\"2f808e02-1d05-4b86-bd39-1b0b79ffe8bc\",\"type\":\"Title\"},\"toolbar\":{\"id\":\"d5929d20-3cbd-42be-8eba-45b013f82de7\",\"type\":\"Toolbar\"},\"x_range\":{\"id\":\"14b99e14-e61d-4da4-91f6-5c49cde8835e\",\"type\":\"DataRange1d\"},\"x_scale\":{\"id\":\"5523b6f2-7768-4e38-88b2-c433a0dac158\",\"type\":\"LinearScale\"},\"y_range\":{\"id\":\"0c6d0063-a054-4901-8fd4-d9d874fa6011\",\"type\":\"DataRange1d\"},\"y_scale\":{\"id\":\"e8179222-dd56-413e-acce-684e438200bf\",\"type\":\"LinearScale\"}},\"id\":\"0f8923ed-5758-4bc2-a253-89f7f87adb7b\",\"subtype\":\"Figure\",\"type\":\"Plot\"},{\"attributes\":{\"line_alpha\":0.1,\"line_color\":\"#1f77b4\",\"line_width\":4,\"x\":{\"field\":\"x\"},\"y\":{\"field\":\"y\"}},\"id\":\"d0bf3559-8378-4881-878b-7c7b1d28d20a\",\"type\":\"Line\"},{\"attributes\":{\"label\":{\"value\":\"LINEAR\"},\"renderers\":[{\"id\":\"b48948ed-c32c-4065-a77d-ec2e1128ff89\",\"type\":\"GlyphRenderer\"}]},\"id\":\"11783c20-7db9-4e5e-bd90-c96484e0251a\",\"type\":\"LegendItem\"},{\"attributes\":{\"data_source\":{\"id\":\"078bc7d2-51b7-498f-a1b7-a18942e957de\",\"type\":\"ColumnDataSource\"},\"glyph\":{\"id\":\"07c41eb0-e928-4cb6-b0e8-4a93d5b85326\",\"type\":\"Line\"},\"hover_glyph\":null,\"muted_glyph\":null,\"nonselection_glyph\":{\"id\":\"d0bf3559-8378-4881-878b-7c7b1d28d20a\",\"type\":\"Line\"},\"selection_glyph\":null,\"view\":{\"id\":\"e7202f61-7383-4623-a7ee-f4ee1b217d19\",\"type\":\"CDSView\"}},\"id\":\"b48948ed-c32c-4065-a77d-ec2e1128ff89\",\"type\":\"GlyphRenderer\"}],\"root_ids\":[\"0f8923ed-5758-4bc2-a253-89f7f87adb7b\"]},\"title\":\"Bokeh Application\",\"version\":\"0.12.16\"}};\n",
       "  var render_items = [{\"docid\":\"f3a99d82-45cc-4cfd-b09f-5534748ed61f\",\"elementid\":\"f5431c32-351e-4afa-abab-e61b1fdda03e\",\"modelid\":\"0f8923ed-5758-4bc2-a253-89f7f87adb7b\"}];\n",
       "  root.Bokeh.embed.embed_items_notebook(docs_json, render_items);\n",
       "\n",
       "  }\n",
       "  if (root.Bokeh !== undefined) {\n",
       "    embed_document(root);\n",
       "  } else {\n",
       "    var attempts = 0;\n",
       "    var timer = setInterval(function(root) {\n",
       "      if (root.Bokeh !== undefined) {\n",
       "        embed_document(root);\n",
       "        clearInterval(timer);\n",
       "      }\n",
       "      attempts++;\n",
       "      if (attempts > 100) {\n",
       "        console.log(\"Bokeh: ERROR: Unable to run BokehJS code because BokehJS library is missing\")\n",
       "        clearInterval(timer);\n",
       "      }\n",
       "    }, 10, root)\n",
       "  }\n",
       "})(window);"
      ],
      "application/vnd.bokehjs_exec.v0+json": ""
     },
     "metadata": {
      "application/vnd.bokehjs_exec.v0+json": {
       "id": "0f8923ed-5758-4bc2-a253-89f7f87adb7b"
      }
     },
     "output_type": "display_data"
    }
   ],
   "source": [
    "# Custom style attribute function\n",
    "# Best practive for bokeh users\n",
    "def model_param_analysis(data, title, width = 800, height = 600, xlab = \"X-axis\", ylab = \"Y-axis\", line_width = 4):\n",
    "    # Creating the variables for the color prop\n",
    "    colors_list = [d3['Category20b'][17][i] for i in [2, 6]]\n",
    "    # Create a parameter dataframe from the regressor object\n",
    "    df = pd.DataFrame(data)\n",
    "    # Structuring the x and y axis values\n",
    "    basis_function = df.basis_function.unique()\n",
    "    xs = [df.lamda.unique()] * len(basis_function)\n",
    "    ys = [df.loc[df[\"basis_function\"] == x][\"lmse\"] for x in basis_function]\n",
    "    # Create the figure object\n",
    "    p = figure(width = width, height = height, title = title, x_axis_label = xlab, y_axis_label = ylab)\n",
    "    # Iterate through each degree and draw the lines\n",
    "    for (col_name, colr, x, y) in zip(basis_function, colors_list, xs, ys):\n",
    "        current_plot = p.line(x, y, color = colr, legend = col_name.upper(), line_width = line_width)\n",
    "        p.legend.location = \"center\"\n",
    "    # Add plot style attributes\n",
    "    p.title.text_font_size = \"20pt\"\n",
    "    p.title.align = \"center\"\n",
    "    p.xaxis.axis_label_text_font_size = \"20pt\"\n",
    "    p.yaxis.axis_label_text_font_size = \"20pt\"\n",
    "    return show(p)\n",
    "\n",
    "# Show the plot\n",
    "model_param_analysis(data = airfoil_regressor.parameters_list, title = \"Airfoil Dataset\", width = 800, height = 600, \n",
    "                         xlab = \"Lamda\", ylab = \"Mean Square Error\", line_width = 4)"
   ]
  },
  {
   "cell_type": "markdown",
   "metadata": {},
   "source": [
    "From the above plot we can see clearly that, linear basis function is better performing for gaussian at all the lambda values for this airfoil data set. And the best lamda value we have selected for our final model is 0.1. You can see that of all points on the plot, least mean square error is at 0.1 approximately. And thus we selected linear basis with lamda value as 0.1 for our model."
   ]
  },
  {
   "cell_type": "markdown",
   "metadata": {},
   "source": [
    "## Yachat Hydro Dataset"
   ]
  },
  {
   "cell_type": "code",
   "execution_count": 15,
   "metadata": {},
   "outputs": [
    {
     "data": {
      "text/plain": [
       "array([-8.03388298e+00, -4.98197638e+00,  1.12183682e+00,  1.02775566e+01,\n",
       "        1.33294632e+01, -8.01210760e+00,  2.86107716e+01,  1.92540344e+01,\n",
       "        2.23059410e+01, -8.48793339e+00,  1.89792260e+01,  2.20311326e+01,\n",
       "        3.11868524e+01, -4.12571466e+00,  1.11338183e+01,  2.02895381e+01,\n",
       "        2.63933513e+01,  2.94452579e+01, -5.57093867e+00,  6.63668772e+00,\n",
       "        3.10519405e+01, -5.55399800e+00,  1.27574416e+01, -7.34286100e+00,\n",
       "       -1.23904780e+00,  1.81285880e+00,  7.91667199e+00,  1.40204852e+01,\n",
       "        2.01242984e+01,  3.23319248e+01,  5.56073525e-01,  2.49713263e+01,\n",
       "       -4.86829637e+00,  4.28742343e+00,  7.33933003e+00,  1.34431432e+01,\n",
       "       -9.17698823e+00, -2.12684411e-02,  6.08254475e+00,  9.13445135e+00,\n",
       "        2.13420777e+01,  2.74458909e+01, -4.32436723e+00, -1.27246063e+00,\n",
       "        1.77944596e+00,  4.83135256e+00,  7.88325916e+00,  1.39870724e+01,\n",
       "        1.70389790e+01,  2.31427921e+01,  2.61946987e+01, -6.76101801e+00,\n",
       "        5.44660838e+00,  8.49851498e+00,  1.23456013e+01,  1.84494145e+01,\n",
       "        2.15013211e+01,  2.45532277e+01, -9.74184482e+00, -5.86125028e-01,\n",
       "        2.46578157e+00,  8.56959477e+00, -6.22500240e+00,  2.93071740e+00,\n",
       "        1.20864372e+01,  2.42940636e+01,  2.73459702e+01,  1.08296519e+01,\n",
       "        1.38815585e+01,  2.30372783e+01,  2.91410915e+01,  3.21929981e+01,\n",
       "       -3.51825194e+00,  1.17412811e+01,  3.90206245e+00,  6.95396905e+00,\n",
       "        2.52654086e+01])"
      ]
     },
     "execution_count": 15,
     "metadata": {},
     "output_type": "execute_result"
    }
   ],
   "source": [
    "yacht_hydro_regressor = Regression()\n",
    "yacht_hydro_data_process = DataProcessing()\n",
    "yacht_hydro_df_train, yacht_hydro_df_test = yacht_hydro_data_process.train_test_split(yacht_hydro_df)\n",
    "prediction = yacht_hydro_regressor.my_regression(yacht_hydro_df_train, yacht_hydro_df_test.iloc[:, 0:-1], 1)\n",
    "prediction.reshape(len(prediction))"
   ]
  },
  {
   "cell_type": "markdown",
   "metadata": {},
   "source": [
    "\n",
    "Above we have the prediction values for the yachat hydro dataset using the selected model on the test set. Lets us see what are parameters used for the model using the model param variable of the regressor class object."
   ]
  },
  {
   "cell_type": "code",
   "execution_count": 16,
   "metadata": {},
   "outputs": [
    {
     "data": {
      "text/plain": [
       "[{'weights': array([[ 0.52099247],\n",
       "         [-0.59127749],\n",
       "         [ 0.13064916],\n",
       "         [-0.56454935],\n",
       "         [-0.60913435],\n",
       "         [12.22693704],\n",
       "         [10.7282111 ]]),\n",
       "  'kernel': 'linear',\n",
       "  'lamda': 10,\n",
       "  'lmse': 85.28994695411536}]"
      ]
     },
     "execution_count": 16,
     "metadata": {},
     "output_type": "execute_result"
    }
   ],
   "source": [
    "yacht_hydro_regressor.model_param"
   ]
  },
  {
   "cell_type": "markdown",
   "metadata": {},
   "source": [
    "\n",
    "Thus we can see clearly that the best model for the yachat hydro dataset after 10 fold cross validation model selection has the following parameters and values\n",
    "\n",
    "1. Kernel : Linear\n",
    "2. Lamda value : 10\n",
    "3. Least Mean Square Error value: ~85.28\n",
    "\n",
    "Lets us the see how the best model is performing over the test data we set apart at first itself using least mean square value."
   ]
  },
  {
   "cell_type": "code",
   "execution_count": 17,
   "metadata": {},
   "outputs": [
    {
     "name": "stdout",
     "output_type": "stream",
     "text": [
      "75.19\n"
     ]
    }
   ],
   "source": [
    "lmse = yacht_hydro_regressor.lmse(yacht_hydro_df_test.iloc[:, -1].values.reshape(len(yacht_hydro_df_test), 1), prediction)\n",
    "print(round(lmse, 2))"
   ]
  },
  {
   "cell_type": "markdown",
   "metadata": {},
   "source": [
    "\n",
    "Thus we have Least Mean Square Error of 75.19 on the test set using Linear basis function itself and lamda as 10. It shows that the yachat dataset have good result with the simple linear basis function itself instead of a complex Gaussian one. In addition, I have done small analysis over the cross validation data of this dataframe using some visualization to say why and how I selected linear to be my basis linear function and lamda value for the model. I will be using the previously created custom plot function to do this."
   ]
  },
  {
   "cell_type": "code",
   "execution_count": 18,
   "metadata": {},
   "outputs": [
    {
     "data": {
      "text/html": [
       "\n",
       "<div class=\"bk-root\">\n",
       "    <div class=\"bk-plotdiv\" id=\"d9143226-b908-4ae2-b2f0-ec1cff362fb6\"></div>\n",
       "</div>"
      ]
     },
     "metadata": {},
     "output_type": "display_data"
    },
    {
     "data": {
      "application/javascript": [
       "(function(root) {\n",
       "  function embed_document(root) {\n",
       "    \n",
       "  var docs_json = {\"80ccd30a-389d-44c4-827b-89770dc50834\":{\"roots\":{\"references\":[{\"attributes\":{},\"id\":\"2bc7955c-5b8a-408a-945a-da4688674f19\",\"type\":\"LinearScale\"},{\"attributes\":{\"data_source\":{\"id\":\"1fab1454-9802-4d04-8bdb-8a61ca5b5b90\",\"type\":\"ColumnDataSource\"},\"glyph\":{\"id\":\"01fa991b-300a-485d-bd9f-9a96a581b689\",\"type\":\"Line\"},\"hover_glyph\":null,\"muted_glyph\":null,\"nonselection_glyph\":{\"id\":\"8b024547-3570-4ae2-96f8-dd077a7a7c9e\",\"type\":\"Line\"},\"selection_glyph\":null,\"view\":{\"id\":\"4d214346-a97d-498b-affb-97d403bec767\",\"type\":\"CDSView\"}},\"id\":\"6cf152a5-c21d-47f6-9240-18371c56cc91\",\"type\":\"GlyphRenderer\"},{\"attributes\":{\"axis_label\":\"Lamda\",\"axis_label_text_font_size\":{\"value\":\"20pt\"},\"formatter\":{\"id\":\"8bd04820-22ed-4256-87f4-7694eec7b058\",\"type\":\"BasicTickFormatter\"},\"plot\":{\"id\":\"49e8f720-3a51-4dca-a2f1-ebca39863759\",\"subtype\":\"Figure\",\"type\":\"Plot\"},\"ticker\":{\"id\":\"c982d400-c7e3-412d-babb-90979f56646d\",\"type\":\"BasicTicker\"}},\"id\":\"f4585c85-8b31-4a8c-9e0d-d4a79d183b09\",\"type\":\"LinearAxis\"},{\"attributes\":{\"label\":{\"value\":\"GAUSSIAN\"},\"renderers\":[{\"id\":\"6cf152a5-c21d-47f6-9240-18371c56cc91\",\"type\":\"GlyphRenderer\"}]},\"id\":\"59904751-2436-45e0-8b63-f69ab7d082e9\",\"type\":\"LegendItem\"},{\"attributes\":{},\"id\":\"26f5d78f-772e-485b-a799-a3a249acbe9e\",\"type\":\"Selection\"},{\"attributes\":{\"callback\":null},\"id\":\"e16dfaee-a193-4b65-a754-7f0b8723463e\",\"type\":\"DataRange1d\"},{\"attributes\":{\"data_source\":{\"id\":\"e36314da-e1ed-4476-96f6-aed72471e44c\",\"type\":\"ColumnDataSource\"},\"glyph\":{\"id\":\"a8c675d8-7c4c-422d-b7d1-24ecd9626b14\",\"type\":\"Line\"},\"hover_glyph\":null,\"muted_glyph\":null,\"nonselection_glyph\":{\"id\":\"16d20214-b6e5-477c-b27f-67a6f5a6ea52\",\"type\":\"Line\"},\"selection_glyph\":null,\"view\":{\"id\":\"bfce3878-817e-4e7b-a333-2ae7712af765\",\"type\":\"CDSView\"}},\"id\":\"6af620a8-7f34-45c9-944c-be40f5d8f320\",\"type\":\"GlyphRenderer\"},{\"attributes\":{\"below\":[{\"id\":\"f4585c85-8b31-4a8c-9e0d-d4a79d183b09\",\"type\":\"LinearAxis\"}],\"left\":[{\"id\":\"c83c5029-7af4-4c56-80c3-9f3fc452fb1f\",\"type\":\"LinearAxis\"}],\"plot_width\":800,\"renderers\":[{\"id\":\"f4585c85-8b31-4a8c-9e0d-d4a79d183b09\",\"type\":\"LinearAxis\"},{\"id\":\"31c5954d-8c88-4ae4-8d78-b90aa3fb83b6\",\"type\":\"Grid\"},{\"id\":\"c83c5029-7af4-4c56-80c3-9f3fc452fb1f\",\"type\":\"LinearAxis\"},{\"id\":\"23d14706-e1b5-4213-8f95-7215d8945ddc\",\"type\":\"Grid\"},{\"id\":\"81398dec-4651-4bf8-9642-1b4346bfa21b\",\"type\":\"BoxAnnotation\"},{\"id\":\"5db6083c-f536-4ee6-b791-ca87500a010f\",\"type\":\"Legend\"},{\"id\":\"6af620a8-7f34-45c9-944c-be40f5d8f320\",\"type\":\"GlyphRenderer\"},{\"id\":\"6cf152a5-c21d-47f6-9240-18371c56cc91\",\"type\":\"GlyphRenderer\"}],\"title\":{\"id\":\"96efac5f-20f5-4155-82fd-b4c38bec3fde\",\"type\":\"Title\"},\"toolbar\":{\"id\":\"f4e949f8-6425-47e3-8943-e0bb22f7719f\",\"type\":\"Toolbar\"},\"x_range\":{\"id\":\"e16dfaee-a193-4b65-a754-7f0b8723463e\",\"type\":\"DataRange1d\"},\"x_scale\":{\"id\":\"0e94b7c6-7671-4b7c-8656-fe51fb2e5669\",\"type\":\"LinearScale\"},\"y_range\":{\"id\":\"bc2dcf0f-a33b-49a9-8390-2ab7e6dd957d\",\"type\":\"DataRange1d\"},\"y_scale\":{\"id\":\"2bc7955c-5b8a-408a-945a-da4688674f19\",\"type\":\"LinearScale\"}},\"id\":\"49e8f720-3a51-4dca-a2f1-ebca39863759\",\"subtype\":\"Figure\",\"type\":\"Plot\"},{\"attributes\":{\"line_color\":\"#6b6ecf\",\"line_width\":4,\"x\":{\"field\":\"x\"},\"y\":{\"field\":\"y\"}},\"id\":\"a8c675d8-7c4c-422d-b7d1-24ecd9626b14\",\"type\":\"Line\"},{\"attributes\":{\"dimension\":1,\"plot\":{\"id\":\"49e8f720-3a51-4dca-a2f1-ebca39863759\",\"subtype\":\"Figure\",\"type\":\"Plot\"},\"ticker\":{\"id\":\"f15bdd39-bafb-4379-a334-9f5f34d49133\",\"type\":\"BasicTicker\"}},\"id\":\"23d14706-e1b5-4213-8f95-7215d8945ddc\",\"type\":\"Grid\"},{\"attributes\":{},\"id\":\"ae3e4a5b-2883-442f-ae42-4e01d1a6377a\",\"type\":\"ResetTool\"},{\"attributes\":{},\"id\":\"e31e25ef-b198-454f-b9a9-09561222e826\",\"type\":\"UnionRenderers\"},{\"attributes\":{\"axis_label\":\"Mean Square Error\",\"axis_label_text_font_size\":{\"value\":\"20pt\"},\"formatter\":{\"id\":\"17d3c4f2-7003-446c-abf1-ea9c72698628\",\"type\":\"BasicTickFormatter\"},\"plot\":{\"id\":\"49e8f720-3a51-4dca-a2f1-ebca39863759\",\"subtype\":\"Figure\",\"type\":\"Plot\"},\"ticker\":{\"id\":\"f15bdd39-bafb-4379-a334-9f5f34d49133\",\"type\":\"BasicTicker\"}},\"id\":\"c83c5029-7af4-4c56-80c3-9f3fc452fb1f\",\"type\":\"LinearAxis\"},{\"attributes\":{},\"id\":\"17d3c4f2-7003-446c-abf1-ea9c72698628\",\"type\":\"BasicTickFormatter\"},{\"attributes\":{\"label\":{\"value\":\"LINEAR\"},\"renderers\":[{\"id\":\"6af620a8-7f34-45c9-944c-be40f5d8f320\",\"type\":\"GlyphRenderer\"}]},\"id\":\"0b9a4d62-05b0-4cc0-9fa2-c35b5d81027e\",\"type\":\"LegendItem\"},{\"attributes\":{},\"id\":\"3710a5c7-c124-4609-bd55-4dda6de3ca70\",\"type\":\"UnionRenderers\"},{\"attributes\":{\"source\":{\"id\":\"1fab1454-9802-4d04-8bdb-8a61ca5b5b90\",\"type\":\"ColumnDataSource\"}},\"id\":\"4d214346-a97d-498b-affb-97d403bec767\",\"type\":\"CDSView\"},{\"attributes\":{\"bottom_units\":\"screen\",\"fill_alpha\":{\"value\":0.5},\"fill_color\":{\"value\":\"lightgrey\"},\"left_units\":\"screen\",\"level\":\"overlay\",\"line_alpha\":{\"value\":1.0},\"line_color\":{\"value\":\"black\"},\"line_dash\":[4,4],\"line_width\":{\"value\":2},\"plot\":null,\"render_mode\":\"css\",\"right_units\":\"screen\",\"top_units\":\"screen\"},\"id\":\"81398dec-4651-4bf8-9642-1b4346bfa21b\",\"type\":\"BoxAnnotation\"},{\"attributes\":{},\"id\":\"8bd04820-22ed-4256-87f4-7694eec7b058\",\"type\":\"BasicTickFormatter\"},{\"attributes\":{\"source\":{\"id\":\"e36314da-e1ed-4476-96f6-aed72471e44c\",\"type\":\"ColumnDataSource\"}},\"id\":\"bfce3878-817e-4e7b-a333-2ae7712af765\",\"type\":\"CDSView\"},{\"attributes\":{},\"id\":\"ebb85afa-5246-45ed-b21a-120acbb89e3b\",\"type\":\"Selection\"},{\"attributes\":{\"callback\":null,\"data\":{\"x\":{\"__ndarray__\":\"AAAAAAAAAAAtQxzr4jYaP/yp8dJNYlA/exSuR+F6hD+amZmZmZm5PwAAAAAAAPA/AAAAAAAAJEAAAAAAAABZQA==\",\"dtype\":\"float64\",\"shape\":[8]},\"y\":{\"__ndarray__\":\"K9zecbKMVUAPjBCxsIxVQMCoh+ygjFVAklKBSgSMVUBmey7JR4ZVQCvc3nGyjFVAl3tS88xjVUAFYKt9jlJVQL5mj5qcBV1A\",\"dtype\":\"float64\",\"shape\":[9]}},\"selected\":{\"id\":\"26f5d78f-772e-485b-a799-a3a249acbe9e\",\"type\":\"Selection\"},\"selection_policy\":{\"id\":\"3710a5c7-c124-4609-bd55-4dda6de3ca70\",\"type\":\"UnionRenderers\"}},\"id\":\"e36314da-e1ed-4476-96f6-aed72471e44c\",\"type\":\"ColumnDataSource\"},{\"attributes\":{},\"id\":\"cfa3d2b4-2da4-4102-b4b3-5df1fa57d2a4\",\"type\":\"HelpTool\"},{\"attributes\":{\"align\":\"center\",\"plot\":null,\"text\":\"Yachat Hydro Dataset\",\"text_font_size\":{\"value\":\"20pt\"}},\"id\":\"96efac5f-20f5-4155-82fd-b4c38bec3fde\",\"type\":\"Title\"},{\"attributes\":{},\"id\":\"3223ed4a-39b2-4d55-9705-4b8d7eeb45da\",\"type\":\"PanTool\"},{\"attributes\":{\"plot\":{\"id\":\"49e8f720-3a51-4dca-a2f1-ebca39863759\",\"subtype\":\"Figure\",\"type\":\"Plot\"},\"ticker\":{\"id\":\"c982d400-c7e3-412d-babb-90979f56646d\",\"type\":\"BasicTicker\"}},\"id\":\"31c5954d-8c88-4ae4-8d78-b90aa3fb83b6\",\"type\":\"Grid\"},{\"attributes\":{},\"id\":\"0e94b7c6-7671-4b7c-8656-fe51fb2e5669\",\"type\":\"LinearScale\"},{\"attributes\":{\"callback\":null},\"id\":\"bc2dcf0f-a33b-49a9-8390-2ab7e6dd957d\",\"type\":\"DataRange1d\"},{\"attributes\":{},\"id\":\"43e2c20b-0735-4901-a13e-cf152626f5cf\",\"type\":\"WheelZoomTool\"},{\"attributes\":{\"line_color\":\"#b5cf6b\",\"line_width\":4,\"x\":{\"field\":\"x\"},\"y\":{\"field\":\"y\"}},\"id\":\"01fa991b-300a-485d-bd9f-9a96a581b689\",\"type\":\"Line\"},{\"attributes\":{\"active_drag\":\"auto\",\"active_inspect\":\"auto\",\"active_scroll\":\"auto\",\"active_tap\":\"auto\",\"tools\":[{\"id\":\"3223ed4a-39b2-4d55-9705-4b8d7eeb45da\",\"type\":\"PanTool\"},{\"id\":\"43e2c20b-0735-4901-a13e-cf152626f5cf\",\"type\":\"WheelZoomTool\"},{\"id\":\"3ee06806-779a-436e-9286-53c56ee04ed6\",\"type\":\"BoxZoomTool\"},{\"id\":\"c56f5bd0-c48c-4f2a-99ea-14539a728cdd\",\"type\":\"SaveTool\"},{\"id\":\"ae3e4a5b-2883-442f-ae42-4e01d1a6377a\",\"type\":\"ResetTool\"},{\"id\":\"cfa3d2b4-2da4-4102-b4b3-5df1fa57d2a4\",\"type\":\"HelpTool\"}]},\"id\":\"f4e949f8-6425-47e3-8943-e0bb22f7719f\",\"type\":\"Toolbar\"},{\"attributes\":{\"line_alpha\":0.1,\"line_color\":\"#1f77b4\",\"line_width\":4,\"x\":{\"field\":\"x\"},\"y\":{\"field\":\"y\"}},\"id\":\"16d20214-b6e5-477c-b27f-67a6f5a6ea52\",\"type\":\"Line\"},{\"attributes\":{\"callback\":null,\"data\":{\"x\":{\"__ndarray__\":\"AAAAAAAAAAAtQxzr4jYaP/yp8dJNYlA/exSuR+F6hD+amZmZmZm5PwAAAAAAAPA/AAAAAAAAJEAAAAAAAABZQA==\",\"dtype\":\"float64\",\"shape\":[8]},\"y\":{\"__ndarray__\":\"s7Vf43VRVkCB5rNEmkFWQDtcaYSrIlZAeUeJZupaVkBaoaGa0wxeQLO1X+N1UVZAxk1yDX3hZ0B46jQWJg1tQMB9Z56rSG5A\",\"dtype\":\"float64\",\"shape\":[9]}},\"selected\":{\"id\":\"ebb85afa-5246-45ed-b21a-120acbb89e3b\",\"type\":\"Selection\"},\"selection_policy\":{\"id\":\"e31e25ef-b198-454f-b9a9-09561222e826\",\"type\":\"UnionRenderers\"}},\"id\":\"1fab1454-9802-4d04-8bdb-8a61ca5b5b90\",\"type\":\"ColumnDataSource\"},{\"attributes\":{\"items\":[{\"id\":\"0b9a4d62-05b0-4cc0-9fa2-c35b5d81027e\",\"type\":\"LegendItem\"},{\"id\":\"59904751-2436-45e0-8b63-f69ab7d082e9\",\"type\":\"LegendItem\"}],\"location\":\"center\",\"plot\":{\"id\":\"49e8f720-3a51-4dca-a2f1-ebca39863759\",\"subtype\":\"Figure\",\"type\":\"Plot\"}},\"id\":\"5db6083c-f536-4ee6-b791-ca87500a010f\",\"type\":\"Legend\"},{\"attributes\":{},\"id\":\"f15bdd39-bafb-4379-a334-9f5f34d49133\",\"type\":\"BasicTicker\"},{\"attributes\":{},\"id\":\"c56f5bd0-c48c-4f2a-99ea-14539a728cdd\",\"type\":\"SaveTool\"},{\"attributes\":{\"line_alpha\":0.1,\"line_color\":\"#1f77b4\",\"line_width\":4,\"x\":{\"field\":\"x\"},\"y\":{\"field\":\"y\"}},\"id\":\"8b024547-3570-4ae2-96f8-dd077a7a7c9e\",\"type\":\"Line\"},{\"attributes\":{\"overlay\":{\"id\":\"81398dec-4651-4bf8-9642-1b4346bfa21b\",\"type\":\"BoxAnnotation\"}},\"id\":\"3ee06806-779a-436e-9286-53c56ee04ed6\",\"type\":\"BoxZoomTool\"},{\"attributes\":{},\"id\":\"c982d400-c7e3-412d-babb-90979f56646d\",\"type\":\"BasicTicker\"}],\"root_ids\":[\"49e8f720-3a51-4dca-a2f1-ebca39863759\"]},\"title\":\"Bokeh Application\",\"version\":\"0.12.16\"}};\n",
       "  var render_items = [{\"docid\":\"80ccd30a-389d-44c4-827b-89770dc50834\",\"elementid\":\"d9143226-b908-4ae2-b2f0-ec1cff362fb6\",\"modelid\":\"49e8f720-3a51-4dca-a2f1-ebca39863759\"}];\n",
       "  root.Bokeh.embed.embed_items_notebook(docs_json, render_items);\n",
       "\n",
       "  }\n",
       "  if (root.Bokeh !== undefined) {\n",
       "    embed_document(root);\n",
       "  } else {\n",
       "    var attempts = 0;\n",
       "    var timer = setInterval(function(root) {\n",
       "      if (root.Bokeh !== undefined) {\n",
       "        embed_document(root);\n",
       "        clearInterval(timer);\n",
       "      }\n",
       "      attempts++;\n",
       "      if (attempts > 100) {\n",
       "        console.log(\"Bokeh: ERROR: Unable to run BokehJS code because BokehJS library is missing\")\n",
       "        clearInterval(timer);\n",
       "      }\n",
       "    }, 10, root)\n",
       "  }\n",
       "})(window);"
      ],
      "application/vnd.bokehjs_exec.v0+json": ""
     },
     "metadata": {
      "application/vnd.bokehjs_exec.v0+json": {
       "id": "49e8f720-3a51-4dca-a2f1-ebca39863759"
      }
     },
     "output_type": "display_data"
    }
   ],
   "source": [
    "# Show the plot\n",
    "model_param_analysis(data = yacht_hydro_regressor.parameters_list, title = \"Yachat Hydro Dataset\", width = 800,  \n",
    "                         height = 600, xlab = \"Lamda\", ylab = \"Mean Square Error\", line_width = 4)"
   ]
  },
  {
   "cell_type": "markdown",
   "metadata": {},
   "source": [
    "This is interesting. If you see the plot you might decide that gaussian function might be having best value at lamda around 1. But if you zoom and see the plot linear basis function has much lower value at lamda = 10. Thus linear basis function is better performing for gaussian at lambda value equal to 10 for this yachat hydro data set. And the best lamda value we have selected for our final model is 10. And thus we selected linear basis with lamda value as 10 for our model."
   ]
  },
  {
   "cell_type": "code",
   "execution_count": 19,
   "metadata": {},
   "outputs": [
    {
     "data": {
      "text/plain": [
       "array([[13.20889866, 40.66435472, 41.45456359],\n",
       "       [ 9.47096004, 30.39801963, 38.82278294],\n",
       "       [35.90407114, 92.67574759, 25.77788639],\n",
       "       [23.08920263, 57.39856208, 29.78983856],\n",
       "       [16.17209082, 40.38097973, 39.5151254 ],\n",
       "       [14.1384017 , 39.47591899, 36.3394246 ],\n",
       "       [27.44532621, 70.48655398, 31.91084903],\n",
       "       [16.70645528, 40.95980877, 21.17522814],\n",
       "       [14.61037272, 39.74694379, 37.32890853],\n",
       "       [20.94497294, 63.88409336, 44.68178247],\n",
       "       [20.76697332, 58.97714945, 42.21273902],\n",
       "       [17.77988686, 54.11335286, 38.11553212],\n",
       "       [25.48940005, 71.55320208, 30.44791719],\n",
       "       [24.2123993 , 60.17300309, 17.47401759],\n",
       "       [17.6839628 , 46.35670148, 34.46348152],\n",
       "       [22.31648068, 60.342233  , 31.31118292],\n",
       "       [21.77312   , 63.16181581, 47.6085848 ],\n",
       "       [23.45462446, 64.45497987, 42.56521531],\n",
       "       [20.63679435, 50.56253873, 36.84569467],\n",
       "       [23.91394104, 58.219242  , 31.8975568 ],\n",
       "       [20.05193642, 52.35241381, 34.99490765],\n",
       "       [23.11322887, 63.09309341, 33.20393836],\n",
       "       [12.72383242, 35.58734196, 40.26298451],\n",
       "       [19.06448524, 56.0295575 , 38.88439268],\n",
       "       [12.72214876, 39.58627358, 43.54838838],\n",
       "       [12.24299542, 36.63170824, 49.66047692]])"
      ]
     },
     "execution_count": 19,
     "metadata": {},
     "output_type": "execute_result"
    }
   ],
   "source": [
    "concrete_slump_regressor = Regression()\n",
    "concrete_slump_data_process = DataProcessing()\n",
    "concrete_slump_df_train, concrete_slump_df_test = concrete_slump_data_process.train_test_split(concrete_slump_df)\n",
    "prediction = concrete_slump_regressor.my_regression(concrete_slump_df_train, concrete_slump_df_test.iloc[:, 0:-3], 3)\n",
    "prediction"
   ]
  },
  {
   "cell_type": "markdown",
   "metadata": {},
   "source": [
    "Above we have the prediction values for the concrete dataset using the selected model on the test set. Each column of the array represents the prediction for each of the three output values of concrete slump dataset. Lets us see what are parameters used for the model using the model param variable of the regressor class object."
   ]
  },
  {
   "cell_type": "code",
   "execution_count": 20,
   "metadata": {},
   "outputs": [
    {
     "data": {
      "text/plain": [
       "[{'weights': array([[-1907.10614893, -4886.67964496,  2199.20283463],\n",
       "         [-1575.26809473, -1543.28769752,  1067.64195938],\n",
       "         [ -481.90347815,  -162.94041712,   531.01063222],\n",
       "         [-1350.63733978, -3234.77550111,  1739.3611421 ],\n",
       "         [ 2150.15655792,  4716.38228671, -2452.31684737],\n",
       "         [ -553.42386094,  -797.41533841,   368.4515397 ],\n",
       "         [ 1816.91376548,  4082.41909645, -1849.58460316],\n",
       "         [ 2318.76130893,  2174.31333379, -1722.13423315],\n",
       "         [  559.47984944,   396.58533531,  -409.75827232],\n",
       "         [-1052.43066726,  -826.29231678,   638.7306028 ]]),\n",
       "  'kernel': 'gaussian',\n",
       "  'lamda': 0,\n",
       "  'lmse': 204.17858165939242}]"
      ]
     },
     "execution_count": 20,
     "metadata": {},
     "output_type": "execute_result"
    }
   ],
   "source": [
    "concrete_slump_regressor.model_param"
   ]
  },
  {
   "cell_type": "markdown",
   "metadata": {},
   "source": [
    "\n",
    "This dataset is somewhat different from the previous two. Since it had three output values the Least mean square error is calculated as a average over all the three outputs while during the model selection. By doing that over 10 fold cross validation, we have the following bst model parameters\n",
    "\n",
    "- Kernel : gaussian\n",
    "- Lamda value : 0\n",
    "- Least Mean Square Error value: ~204.18\n",
    "\n",
    "Lets us the see how the best model is performing over the test data we set apart at first itself using least mean square value."
   ]
  },
  {
   "cell_type": "code",
   "execution_count": 21,
   "metadata": {},
   "outputs": [
    {
     "name": "stdout",
     "output_type": "stream",
     "text": [
      "Least mean square errors:\n",
      "SLUMP: 82.42\n",
      "FLOW: 321.81\n",
      "Compressive Strength: 14.72\n"
     ]
    }
   ],
   "source": [
    "lmse_list = []\n",
    "for i in range(0, 3):\n",
    "    lmse = concrete_slump_regressor.lmse(concrete_slump_df_test.iloc[:, -3 + i].values.reshape(len(concrete_slump_df_test), ), \n",
    "                          prediction[:, i].reshape(len(prediction), ))\n",
    "    lmse_list.append(round(lmse, 2))\n",
    "\n",
    "print(\"Least mean square errors:\")\n",
    "print(\"SLUMP:\", lmse_list[0])\n",
    "print(\"FLOW:\", lmse_list[1])\n",
    "print(\"Compressive Strength:\", lmse_list[2])"
   ]
  },
  {
   "cell_type": "markdown",
   "metadata": {},
   "source": [
    "Thus we have above the Least Mean Square Error on the test set using Gaussian basis function and lamda as 0. In addition, I have done small analysis over the cross validation data of this dataframe using some visualization to say why and how I selected Gaussian to be my basis linear function and lamda value for the model. I will be using the previously created custom plot function to do this. Remeber that the least mean square error is average over all the indepedent variables in the dataset."
   ]
  },
  {
   "cell_type": "code",
   "execution_count": 22,
   "metadata": {},
   "outputs": [
    {
     "data": {
      "text/html": [
       "\n",
       "<div class=\"bk-root\">\n",
       "    <div class=\"bk-plotdiv\" id=\"4d57b157-85a5-4724-a772-035f4a9e0ee2\"></div>\n",
       "</div>"
      ]
     },
     "metadata": {},
     "output_type": "display_data"
    },
    {
     "data": {
      "application/javascript": [
       "(function(root) {\n",
       "  function embed_document(root) {\n",
       "    \n",
       "  var docs_json = {\"46217c69-9039-43af-9b3d-568158b01691\":{\"roots\":{\"references\":[{\"attributes\":{},\"id\":\"edadb87a-48c2-4c57-a65e-c943a0c34890\",\"type\":\"HelpTool\"},{\"attributes\":{},\"id\":\"231fe87c-0672-4de8-87b9-72a6c684f5a6\",\"type\":\"UnionRenderers\"},{\"attributes\":{\"callback\":null},\"id\":\"0b0989da-bf97-4093-ac13-79903f3280f4\",\"type\":\"DataRange1d\"},{\"attributes\":{\"bottom_units\":\"screen\",\"fill_alpha\":{\"value\":0.5},\"fill_color\":{\"value\":\"lightgrey\"},\"left_units\":\"screen\",\"level\":\"overlay\",\"line_alpha\":{\"value\":1.0},\"line_color\":{\"value\":\"black\"},\"line_dash\":[4,4],\"line_width\":{\"value\":2},\"plot\":null,\"render_mode\":\"css\",\"right_units\":\"screen\",\"top_units\":\"screen\"},\"id\":\"42fd042d-4a54-4430-91b8-17fb14eb941e\",\"type\":\"BoxAnnotation\"},{\"attributes\":{\"align\":\"center\",\"plot\":null,\"text\":\"Concrete slump Dataset\",\"text_font_size\":{\"value\":\"20pt\"}},\"id\":\"a8f4699c-8644-46b1-99d3-004280e81098\",\"type\":\"Title\"},{\"attributes\":{\"line_color\":\"#b5cf6b\",\"line_width\":4,\"x\":{\"field\":\"x\"},\"y\":{\"field\":\"y\"}},\"id\":\"1e49829f-9e8c-467b-9fe2-d2499b3fbcdc\",\"type\":\"Line\"},{\"attributes\":{\"source\":{\"id\":\"0e76b76d-88bc-4b93-9b51-2f6f3f4c6a87\",\"type\":\"ColumnDataSource\"}},\"id\":\"e071506a-c898-4825-b099-ddaf391b009b\",\"type\":\"CDSView\"},{\"attributes\":{\"callback\":null},\"id\":\"b57dc1c0-dbd4-44c6-a42d-83a0b774c912\",\"type\":\"DataRange1d\"},{\"attributes\":{},\"id\":\"334504ca-4a6d-408f-9ad4-bba53ccb71ca\",\"type\":\"UnionRenderers\"},{\"attributes\":{\"items\":[{\"id\":\"feb7f4c4-0565-43a5-9341-1173154679f0\",\"type\":\"LegendItem\"},{\"id\":\"f24c9e22-bbfe-4591-b1dc-c638cd32f109\",\"type\":\"LegendItem\"}],\"location\":\"center\",\"plot\":{\"id\":\"3ade1f59-09eb-4dac-b8db-e08ab414b8e3\",\"subtype\":\"Figure\",\"type\":\"Plot\"}},\"id\":\"975a00d9-d2c6-4ce6-a2f9-d6bd82c4e57c\",\"type\":\"Legend\"},{\"attributes\":{\"line_alpha\":0.1,\"line_color\":\"#1f77b4\",\"line_width\":4,\"x\":{\"field\":\"x\"},\"y\":{\"field\":\"y\"}},\"id\":\"229f9ebe-b2bd-45c0-bf4b-e9bd72b51c15\",\"type\":\"Line\"},{\"attributes\":{},\"id\":\"8cf38186-eb8f-4424-abce-2ad23bdb2562\",\"type\":\"LinearScale\"},{\"attributes\":{},\"id\":\"2cf5922a-42a1-4849-abf3-3f6f48654d59\",\"type\":\"SaveTool\"},{\"attributes\":{\"callback\":null,\"data\":{\"x\":{\"__ndarray__\":\"AAAAAAAAAAAtQxzr4jYaP/yp8dJNYlA/exSuR+F6hD+amZmZmZm5PwAAAAAAAPA/AAAAAAAAJEAAAAAAAABZQA==\",\"dtype\":\"float64\",\"shape\":[8]},\"y\":{\"__ndarray__\":\"YkehToCSbEC532zLbJJsQKKpxCm+kWxAKf+0pkeLbEDOEOKBb2FsQGJHoU6AkmxAo75kKvcvbEDKBlvuR3VzQPkXlhpfFZ9A\",\"dtype\":\"float64\",\"shape\":[9]}},\"selected\":{\"id\":\"3c0259de-f496-4f11-a412-514bbbdbb31c\",\"type\":\"Selection\"},\"selection_policy\":{\"id\":\"334504ca-4a6d-408f-9ad4-bba53ccb71ca\",\"type\":\"UnionRenderers\"}},\"id\":\"0e76b76d-88bc-4b93-9b51-2f6f3f4c6a87\",\"type\":\"ColumnDataSource\"},{\"attributes\":{\"line_alpha\":0.1,\"line_color\":\"#1f77b4\",\"line_width\":4,\"x\":{\"field\":\"x\"},\"y\":{\"field\":\"y\"}},\"id\":\"8441217e-e764-4d2d-a86a-7895e0ddcc5e\",\"type\":\"Line\"},{\"attributes\":{\"active_drag\":\"auto\",\"active_inspect\":\"auto\",\"active_scroll\":\"auto\",\"active_tap\":\"auto\",\"tools\":[{\"id\":\"620a2e6b-4128-48d5-a33d-fbf7ffa2b1e4\",\"type\":\"PanTool\"},{\"id\":\"2b43db34-e21f-4b9d-9e30-81cfae632bbc\",\"type\":\"WheelZoomTool\"},{\"id\":\"38b79ace-70f5-4d3d-a9d3-a38a96ad9459\",\"type\":\"BoxZoomTool\"},{\"id\":\"2cf5922a-42a1-4849-abf3-3f6f48654d59\",\"type\":\"SaveTool\"},{\"id\":\"f7ee9e24-e309-4323-832b-0c1d5a484fbd\",\"type\":\"ResetTool\"},{\"id\":\"edadb87a-48c2-4c57-a65e-c943a0c34890\",\"type\":\"HelpTool\"}]},\"id\":\"6a333133-0c27-4398-bbc9-333f7f712c55\",\"type\":\"Toolbar\"},{\"attributes\":{\"line_color\":\"#6b6ecf\",\"line_width\":4,\"x\":{\"field\":\"x\"},\"y\":{\"field\":\"y\"}},\"id\":\"1ca95437-1d49-427f-abd2-a0ec94e7738d\",\"type\":\"Line\"},{\"attributes\":{},\"id\":\"75b822bd-fc85-4aa4-9d20-9d6aa96be078\",\"type\":\"LinearScale\"},{\"attributes\":{},\"id\":\"fc3be0af-00c3-4572-8e3d-edfaef6e47f1\",\"type\":\"BasicTickFormatter\"},{\"attributes\":{},\"id\":\"f7ee9e24-e309-4323-832b-0c1d5a484fbd\",\"type\":\"ResetTool\"},{\"attributes\":{\"label\":{\"value\":\"LINEAR\"},\"renderers\":[{\"id\":\"dfcbc5f7-ee20-4002-aa71-ece77898989b\",\"type\":\"GlyphRenderer\"}]},\"id\":\"feb7f4c4-0565-43a5-9341-1173154679f0\",\"type\":\"LegendItem\"},{\"attributes\":{},\"id\":\"f419edee-45c9-448e-abbf-5565445ebeea\",\"type\":\"BasicTickFormatter\"},{\"attributes\":{\"axis_label\":\"Mean Square Error\",\"axis_label_text_font_size\":{\"value\":\"20pt\"},\"formatter\":{\"id\":\"f419edee-45c9-448e-abbf-5565445ebeea\",\"type\":\"BasicTickFormatter\"},\"plot\":{\"id\":\"3ade1f59-09eb-4dac-b8db-e08ab414b8e3\",\"subtype\":\"Figure\",\"type\":\"Plot\"},\"ticker\":{\"id\":\"3866634b-e7ae-4082-b1fa-03e275fe0274\",\"type\":\"BasicTicker\"}},\"id\":\"78f6ab1f-92de-429b-865d-b62cfed1d028\",\"type\":\"LinearAxis\"},{\"attributes\":{\"callback\":null,\"data\":{\"x\":{\"__ndarray__\":\"AAAAAAAAAAAtQxzr4jYaP/yp8dJNYlA/exSuR+F6hD+amZmZmZm5PwAAAAAAAPA/AAAAAAAAJEAAAAAAAABZQA==\",\"dtype\":\"float64\",\"shape\":[8]},\"y\":{\"__ndarray__\":\"MFji8LaFaUAJKMKP1zRqQEoTA4qQhWpAaqYOIlG6bkB+ol7Ks5p1QDBY4vC2hWlAyf6CDs5MeUCVOsEE1ap6QKMxqgz3r4BA\",\"dtype\":\"float64\",\"shape\":[9]}},\"selected\":{\"id\":\"b80a2d7e-2d18-41ff-803a-7b6bbbb3b35c\",\"type\":\"Selection\"},\"selection_policy\":{\"id\":\"231fe87c-0672-4de8-87b9-72a6c684f5a6\",\"type\":\"UnionRenderers\"}},\"id\":\"b8345697-77d6-4499-a577-1f33555c3bd8\",\"type\":\"ColumnDataSource\"},{\"attributes\":{\"plot\":{\"id\":\"3ade1f59-09eb-4dac-b8db-e08ab414b8e3\",\"subtype\":\"Figure\",\"type\":\"Plot\"},\"ticker\":{\"id\":\"8877b1b0-3bed-43e8-ae6b-8cfe2970f683\",\"type\":\"BasicTicker\"}},\"id\":\"748ca944-cea5-40b9-9bd7-aca2dbbd2599\",\"type\":\"Grid\"},{\"attributes\":{},\"id\":\"b80a2d7e-2d18-41ff-803a-7b6bbbb3b35c\",\"type\":\"Selection\"},{\"attributes\":{},\"id\":\"2b43db34-e21f-4b9d-9e30-81cfae632bbc\",\"type\":\"WheelZoomTool\"},{\"attributes\":{},\"id\":\"3c0259de-f496-4f11-a412-514bbbdbb31c\",\"type\":\"Selection\"},{\"attributes\":{\"data_source\":{\"id\":\"0e76b76d-88bc-4b93-9b51-2f6f3f4c6a87\",\"type\":\"ColumnDataSource\"},\"glyph\":{\"id\":\"1ca95437-1d49-427f-abd2-a0ec94e7738d\",\"type\":\"Line\"},\"hover_glyph\":null,\"muted_glyph\":null,\"nonselection_glyph\":{\"id\":\"229f9ebe-b2bd-45c0-bf4b-e9bd72b51c15\",\"type\":\"Line\"},\"selection_glyph\":null,\"view\":{\"id\":\"e071506a-c898-4825-b099-ddaf391b009b\",\"type\":\"CDSView\"}},\"id\":\"dfcbc5f7-ee20-4002-aa71-ece77898989b\",\"type\":\"GlyphRenderer\"},{\"attributes\":{\"dimension\":1,\"plot\":{\"id\":\"3ade1f59-09eb-4dac-b8db-e08ab414b8e3\",\"subtype\":\"Figure\",\"type\":\"Plot\"},\"ticker\":{\"id\":\"3866634b-e7ae-4082-b1fa-03e275fe0274\",\"type\":\"BasicTicker\"}},\"id\":\"95351fb6-39db-425b-91fa-b8bce6272f85\",\"type\":\"Grid\"},{\"attributes\":{\"overlay\":{\"id\":\"42fd042d-4a54-4430-91b8-17fb14eb941e\",\"type\":\"BoxAnnotation\"}},\"id\":\"38b79ace-70f5-4d3d-a9d3-a38a96ad9459\",\"type\":\"BoxZoomTool\"},{\"attributes\":{},\"id\":\"620a2e6b-4128-48d5-a33d-fbf7ffa2b1e4\",\"type\":\"PanTool\"},{\"attributes\":{},\"id\":\"8877b1b0-3bed-43e8-ae6b-8cfe2970f683\",\"type\":\"BasicTicker\"},{\"attributes\":{\"source\":{\"id\":\"b8345697-77d6-4499-a577-1f33555c3bd8\",\"type\":\"ColumnDataSource\"}},\"id\":\"fa857645-95ec-4843-8cdf-9245698b1440\",\"type\":\"CDSView\"},{\"attributes\":{\"label\":{\"value\":\"GAUSSIAN\"},\"renderers\":[{\"id\":\"99e9276f-eee5-4dde-b822-be61d893fcc8\",\"type\":\"GlyphRenderer\"}]},\"id\":\"f24c9e22-bbfe-4591-b1dc-c638cd32f109\",\"type\":\"LegendItem\"},{\"attributes\":{\"below\":[{\"id\":\"2f262383-b4d2-4062-907f-6f29d9f12fbc\",\"type\":\"LinearAxis\"}],\"left\":[{\"id\":\"78f6ab1f-92de-429b-865d-b62cfed1d028\",\"type\":\"LinearAxis\"}],\"plot_width\":800,\"renderers\":[{\"id\":\"2f262383-b4d2-4062-907f-6f29d9f12fbc\",\"type\":\"LinearAxis\"},{\"id\":\"748ca944-cea5-40b9-9bd7-aca2dbbd2599\",\"type\":\"Grid\"},{\"id\":\"78f6ab1f-92de-429b-865d-b62cfed1d028\",\"type\":\"LinearAxis\"},{\"id\":\"95351fb6-39db-425b-91fa-b8bce6272f85\",\"type\":\"Grid\"},{\"id\":\"42fd042d-4a54-4430-91b8-17fb14eb941e\",\"type\":\"BoxAnnotation\"},{\"id\":\"975a00d9-d2c6-4ce6-a2f9-d6bd82c4e57c\",\"type\":\"Legend\"},{\"id\":\"dfcbc5f7-ee20-4002-aa71-ece77898989b\",\"type\":\"GlyphRenderer\"},{\"id\":\"99e9276f-eee5-4dde-b822-be61d893fcc8\",\"type\":\"GlyphRenderer\"}],\"title\":{\"id\":\"a8f4699c-8644-46b1-99d3-004280e81098\",\"type\":\"Title\"},\"toolbar\":{\"id\":\"6a333133-0c27-4398-bbc9-333f7f712c55\",\"type\":\"Toolbar\"},\"x_range\":{\"id\":\"b57dc1c0-dbd4-44c6-a42d-83a0b774c912\",\"type\":\"DataRange1d\"},\"x_scale\":{\"id\":\"75b822bd-fc85-4aa4-9d20-9d6aa96be078\",\"type\":\"LinearScale\"},\"y_range\":{\"id\":\"0b0989da-bf97-4093-ac13-79903f3280f4\",\"type\":\"DataRange1d\"},\"y_scale\":{\"id\":\"8cf38186-eb8f-4424-abce-2ad23bdb2562\",\"type\":\"LinearScale\"}},\"id\":\"3ade1f59-09eb-4dac-b8db-e08ab414b8e3\",\"subtype\":\"Figure\",\"type\":\"Plot\"},{\"attributes\":{},\"id\":\"3866634b-e7ae-4082-b1fa-03e275fe0274\",\"type\":\"BasicTicker\"},{\"attributes\":{\"data_source\":{\"id\":\"b8345697-77d6-4499-a577-1f33555c3bd8\",\"type\":\"ColumnDataSource\"},\"glyph\":{\"id\":\"1e49829f-9e8c-467b-9fe2-d2499b3fbcdc\",\"type\":\"Line\"},\"hover_glyph\":null,\"muted_glyph\":null,\"nonselection_glyph\":{\"id\":\"8441217e-e764-4d2d-a86a-7895e0ddcc5e\",\"type\":\"Line\"},\"selection_glyph\":null,\"view\":{\"id\":\"fa857645-95ec-4843-8cdf-9245698b1440\",\"type\":\"CDSView\"}},\"id\":\"99e9276f-eee5-4dde-b822-be61d893fcc8\",\"type\":\"GlyphRenderer\"},{\"attributes\":{\"axis_label\":\"Lamda\",\"axis_label_text_font_size\":{\"value\":\"20pt\"},\"formatter\":{\"id\":\"fc3be0af-00c3-4572-8e3d-edfaef6e47f1\",\"type\":\"BasicTickFormatter\"},\"plot\":{\"id\":\"3ade1f59-09eb-4dac-b8db-e08ab414b8e3\",\"subtype\":\"Figure\",\"type\":\"Plot\"},\"ticker\":{\"id\":\"8877b1b0-3bed-43e8-ae6b-8cfe2970f683\",\"type\":\"BasicTicker\"}},\"id\":\"2f262383-b4d2-4062-907f-6f29d9f12fbc\",\"type\":\"LinearAxis\"}],\"root_ids\":[\"3ade1f59-09eb-4dac-b8db-e08ab414b8e3\"]},\"title\":\"Bokeh Application\",\"version\":\"0.12.16\"}};\n",
       "  var render_items = [{\"docid\":\"46217c69-9039-43af-9b3d-568158b01691\",\"elementid\":\"4d57b157-85a5-4724-a772-035f4a9e0ee2\",\"modelid\":\"3ade1f59-09eb-4dac-b8db-e08ab414b8e3\"}];\n",
       "  root.Bokeh.embed.embed_items_notebook(docs_json, render_items);\n",
       "\n",
       "  }\n",
       "  if (root.Bokeh !== undefined) {\n",
       "    embed_document(root);\n",
       "  } else {\n",
       "    var attempts = 0;\n",
       "    var timer = setInterval(function(root) {\n",
       "      if (root.Bokeh !== undefined) {\n",
       "        embed_document(root);\n",
       "        clearInterval(timer);\n",
       "      }\n",
       "      attempts++;\n",
       "      if (attempts > 100) {\n",
       "        console.log(\"Bokeh: ERROR: Unable to run BokehJS code because BokehJS library is missing\")\n",
       "        clearInterval(timer);\n",
       "      }\n",
       "    }, 10, root)\n",
       "  }\n",
       "})(window);"
      ],
      "application/vnd.bokehjs_exec.v0+json": ""
     },
     "metadata": {
      "application/vnd.bokehjs_exec.v0+json": {
       "id": "3ade1f59-09eb-4dac-b8db-e08ab414b8e3"
      }
     },
     "output_type": "display_data"
    }
   ],
   "source": [
    "# Show the plot\n",
    "model_param_analysis(data = concrete_slump_regressor.parameters_list, title = \"Concrete slump Dataset\", width = 800,  \n",
    "                         height = 600, xlab = \"Lamda\", ylab = \"Mean Square Error\", line_width = 4)"
   ]
  },
  {
   "cell_type": "markdown",
   "metadata": {},
   "source": [
    "\n",
    "From the plot it is so obvious that the gaussian is out performing the linear basis function with the concrete slump dataset. We can see that the gaussian is reaching two lower points related to linear basis function at 0 and 1.\n",
    "\n",
    "When I was checking the lmse value of training the whole set with linear basis function and lamda as 0 the lmse value was bit lower compared to the above lmse got using gaussian model. However, considering the real world scanario it is always better to go with model parameters which we got using cross validation.\n",
    "\n",
    "Thus the final best model I have selected was with Gaussian basis function and lamda value as 0"
   ]
  },
  {
   "cell_type": "markdown",
   "metadata": {},
   "source": [
    "### Proof testing mode\n",
    "In order to just do double chack the lmse value i got from my regression function, I used sklearn regression to see how close i am getting results in regards to sklearn."
   ]
  },
  {
   "cell_type": "code",
   "execution_count": 25,
   "metadata": {},
   "outputs": [],
   "source": [
    "from sklearn import linear_model\n",
    "from sklearn.metrics import mean_squared_error\n",
    "\n",
    "def sklearn_regression(trainX, testX, noutputs = 1):\n",
    "    # Create linear regression object\n",
    "    regr = linear_model.LinearRegression()\n",
    "    \n",
    "    # Create DataProcessing class object \n",
    "    data_process = DataProcessing()\n",
    "    \n",
    "    x_train, y_train = data_process.pred_target_split(trainX, noutputs = noutputs)\n",
    "\n",
    "    # Train the model using the training sets\n",
    "    regr.fit(x_train, y_train)\n",
    "\n",
    "    # Make predictions using the testing set\n",
    "    pred = regr.predict(testX.iloc[:, 0:-noutputs].values)\n",
    "\n",
    "    print(\"Mean squared error: %.2f\"\n",
    "          % mean_squared_error(testX.iloc[:, -noutputs].values, pred))"
   ]
  },
  {
   "cell_type": "markdown",
   "metadata": {},
   "source": [
    "## Airfoil dataset\n"
   ]
  },
  {
   "cell_type": "code",
   "execution_count": 27,
   "metadata": {},
   "outputs": [
    {
     "name": "stdout",
     "output_type": "stream",
     "text": [
      "Mean squared error: 22.36\n"
     ]
    }
   ],
   "source": [
    "airfoil_df_train, airfoil_df_test = airfoil_data_process.train_test_split(airfoil_df)\n",
    "sklearn_regression(airfoil_df_train, airfoil_df_test)"
   ]
  },
  {
   "cell_type": "markdown",
   "metadata": {},
   "source": [
    "I got very close value to this for my regression function."
   ]
  },
  {
   "cell_type": "markdown",
   "metadata": {},
   "source": [
    "## Yachat hydro dataset"
   ]
  },
  {
   "cell_type": "code",
   "execution_count": 28,
   "metadata": {},
   "outputs": [
    {
     "name": "stdout",
     "output_type": "stream",
     "text": [
      "Mean squared error: 73.66\n"
     ]
    }
   ],
   "source": [
    "yacht_hydro_df_train, yacht_hydro_df_test = yacht_hydro_data_process.train_test_split(yacht_hydro_df)\n",
    "sklearn_regression(yacht_hydro_df_train, yacht_hydro_df_test)"
   ]
  },
  {
   "cell_type": "markdown",
   "metadata": {},
   "source": [
    "I got very close value to this for my regression function."
   ]
  },
  {
   "cell_type": "markdown",
   "metadata": {},
   "source": [
    "## Concrete slump dataset"
   ]
  },
  {
   "cell_type": "code",
   "execution_count": 29,
   "metadata": {},
   "outputs": [
    {
     "name": "stdout",
     "output_type": "stream",
     "text": [
      "Mean squared error: 74.01\n",
      "Mean squared error: 217.23\n",
      "Mean squared error: 8.35\n"
     ]
    }
   ],
   "source": [
    "concrete_slump_df_train, concrete_slump_df_test = concrete_slump_data_process.train_test_split(concrete_slump_df)\n",
    "\n",
    "# Create linear regression object\n",
    "regr = linear_model.LinearRegression()\n",
    "\n",
    "x_train, y_train = concrete_slump_data_process.pred_target_split(concrete_slump_df_train, noutputs = 3)\n",
    "\n",
    "for i in range(0, 3):\n",
    "    # Train the model using the training sets\n",
    "    regr.fit(x_train, y_train.iloc[:, i])\n",
    "\n",
    "    # Make predictions using the testing set\n",
    "    pred = regr.predict(concrete_slump_df_test.iloc[:, 0:-3].values)\n",
    "\n",
    "    print(\"Mean squared error: %.2f\"\n",
    "          % mean_squared_error(concrete_slump_df_test.iloc[:, i-3].values, pred))"
   ]
  },
  {
   "cell_type": "markdown",
   "metadata": {},
   "source": [
    "I got very close value to this for my regression function."
   ]
  },
  {
   "cell_type": "code",
   "execution_count": null,
   "metadata": {},
   "outputs": [],
   "source": []
  }
 ],
 "metadata": {
  "kernelspec": {
   "display_name": "Python 3 (ipykernel)",
   "language": "python",
   "name": "python3"
  },
  "language_info": {
   "codemirror_mode": {
    "name": "ipython",
    "version": 3
   },
   "file_extension": ".py",
   "mimetype": "text/x-python",
   "name": "python",
   "nbconvert_exporter": "python",
   "pygments_lexer": "ipython3",
   "version": "3.9.12"
  }
 },
 "nbformat": 4,
 "nbformat_minor": 2
}
